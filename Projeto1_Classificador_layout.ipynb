{
 "cells": [
  {
   "cell_type": "markdown",
   "metadata": {},
   "source": [
    "# Projeto 1 - Ciência dos Dados"
   ]
  },
  {
   "cell_type": "markdown",
   "metadata": {},
   "source": [
    "Nome: Paulo Kim\n",
    "\n",
    "Nome: Rodrigo Coelho"
   ]
  },
  {
   "cell_type": "markdown",
   "metadata": {},
   "source": [
    "**Atenção:** Serão permitidos grupos de três pessoas, mas com uma rubrica mais exigente. Grupos deste tamanho precisarão fazer um questionário de avaliação de trabalho em equipe"
   ]
  },
  {
   "cell_type": "markdown",
   "metadata": {},
   "source": [
    "___\n",
    "Carregando algumas bibliotecas:"
   ]
  },
  {
   "cell_type": "code",
   "execution_count": 1,
   "metadata": {},
   "outputs": [],
   "source": [
    "%matplotlib inline\n",
    "import pandas as pd\n",
    "import matplotlib.pyplot as plt\n",
    "import numpy as np\n",
    "import os\n",
    "import re\n",
    "import math"
   ]
  },
  {
   "cell_type": "markdown",
   "metadata": {},
   "source": [
    "**Em `filename`, coloque o nome do seu arquivo de dados!**"
   ]
  },
  {
   "cell_type": "code",
   "execution_count": 2,
   "metadata": {},
   "outputs": [
    {
     "name": "stdout",
     "output_type": "stream",
     "text": [
      "Encontrei o arquivo iPhone_X.xlsx, tudo certo para prosseguir com a prova!\n"
     ]
    }
   ],
   "source": [
    "import os\n",
    "\n",
    "filename = 'iPhone_X.xlsx'\n",
    "if filename in os.listdir():\n",
    "    print(f'Encontrei o arquivo {filename}, tudo certo para prosseguir com a prova!')\n",
    "else:\n",
    "    print(f'Não encontrei o arquivo {filename} aqui no diretório {os.getcwd()}, será que você não baixou o arquivo?')"
   ]
  },
  {
   "cell_type": "markdown",
   "metadata": {},
   "source": [
    "Carregando a base de dados com os tweets classificados como relevantes e não relevantes:"
   ]
  },
  {
   "cell_type": "code",
   "execution_count": 3,
   "metadata": {},
   "outputs": [
    {
     "data": {
      "text/html": [
       "<div>\n",
       "<style scoped>\n",
       "    .dataframe tbody tr th:only-of-type {\n",
       "        vertical-align: middle;\n",
       "    }\n",
       "\n",
       "    .dataframe tbody tr th {\n",
       "        vertical-align: top;\n",
       "    }\n",
       "\n",
       "    .dataframe thead th {\n",
       "        text-align: right;\n",
       "    }\n",
       "</style>\n",
       "<table border=\"1\" class=\"dataframe\">\n",
       "  <thead>\n",
       "    <tr style=\"text-align: right;\">\n",
       "      <th></th>\n",
       "      <th>Treinamento</th>\n",
       "      <th>Classificação</th>\n",
       "    </tr>\n",
       "  </thead>\n",
       "  <tbody>\n",
       "    <tr>\n",
       "      <th>0</th>\n",
       "      <td>@iconredesign my prediction is the same but:\\n...</td>\n",
       "      <td>2</td>\n",
       "    </tr>\n",
       "    <tr>\n",
       "      <th>1</th>\n",
       "      <td>still have mine but i never connected to my ph...</td>\n",
       "      <td>1</td>\n",
       "    </tr>\n",
       "    <tr>\n",
       "      <th>2</th>\n",
       "      <td>iphone 11 na waste of money, just chill with x...</td>\n",
       "      <td>2</td>\n",
       "    </tr>\n",
       "    <tr>\n",
       "      <th>3</th>\n",
       "      <td>once the iphone 12 drops those using the iphon...</td>\n",
       "      <td>2</td>\n",
       "    </tr>\n",
       "    <tr>\n",
       "      <th>4</th>\n",
       "      <td>#ncat who fix’s phone ?? it’s a iphone x</td>\n",
       "      <td>1</td>\n",
       "    </tr>\n",
       "  </tbody>\n",
       "</table>\n",
       "</div>"
      ],
      "text/plain": [
       "                                         Treinamento  Classificação\n",
       "0  @iconredesign my prediction is the same but:\\n...              2\n",
       "1  still have mine but i never connected to my ph...              1\n",
       "2  iphone 11 na waste of money, just chill with x...              2\n",
       "3  once the iphone 12 drops those using the iphon...              2\n",
       "4           #ncat who fix’s phone ?? it’s a iphone x              1"
      ]
     },
     "execution_count": 3,
     "metadata": {},
     "output_type": "execute_result"
    }
   ],
   "source": [
    "train = pd.read_excel(filename)\n",
    "train = train.iloc[:,:2]\n",
    "train.head(5)"
   ]
  },
  {
   "cell_type": "code",
   "execution_count": 4,
   "metadata": {},
   "outputs": [
    {
     "data": {
      "text/html": [
       "<div>\n",
       "<style scoped>\n",
       "    .dataframe tbody tr th:only-of-type {\n",
       "        vertical-align: middle;\n",
       "    }\n",
       "\n",
       "    .dataframe tbody tr th {\n",
       "        vertical-align: top;\n",
       "    }\n",
       "\n",
       "    .dataframe thead th {\n",
       "        text-align: right;\n",
       "    }\n",
       "</style>\n",
       "<table border=\"1\" class=\"dataframe\">\n",
       "  <thead>\n",
       "    <tr style=\"text-align: right;\">\n",
       "      <th></th>\n",
       "      <th>Teste</th>\n",
       "      <th>Classificação</th>\n",
       "    </tr>\n",
       "  </thead>\n",
       "  <tbody>\n",
       "    <tr>\n",
       "      <th>0</th>\n",
       "      <td>@starrynight024 right?? that’s exactly what ha...</td>\n",
       "      <td>3</td>\n",
       "    </tr>\n",
       "    <tr>\n",
       "      <th>1</th>\n",
       "      <td>@gossipgirliee some of us haven't bought iphone x</td>\n",
       "      <td>2</td>\n",
       "    </tr>\n",
       "    <tr>\n",
       "      <th>2</th>\n",
       "      <td>@manyaww @mlgcollegefess hs without cond*m and...</td>\n",
       "      <td>1</td>\n",
       "    </tr>\n",
       "    <tr>\n",
       "      <th>3</th>\n",
       "      <td>very annoying that they didn't announce the ne...</td>\n",
       "      <td>2</td>\n",
       "    </tr>\n",
       "    <tr>\n",
       "      <th>4</th>\n",
       "      <td>@clarkvolo iphone x was released in november tho</td>\n",
       "      <td>2</td>\n",
       "    </tr>\n",
       "  </tbody>\n",
       "</table>\n",
       "</div>"
      ],
      "text/plain": [
       "                                               Teste  Classificação\n",
       "0  @starrynight024 right?? that’s exactly what ha...              3\n",
       "1  @gossipgirliee some of us haven't bought iphone x              2\n",
       "2  @manyaww @mlgcollegefess hs without cond*m and...              1\n",
       "3  very annoying that they didn't announce the ne...              2\n",
       "4   @clarkvolo iphone x was released in november tho              2"
      ]
     },
     "execution_count": 4,
     "metadata": {},
     "output_type": "execute_result"
    }
   ],
   "source": [
    "test = pd.read_excel(filename, sheet_name = 'Teste')\n",
    "test = test.iloc[:,:2]\n",
    "test.head(5)"
   ]
  },
  {
   "cell_type": "markdown",
   "metadata": {},
   "source": [
    "___\n",
    "## Classificador automático de sentimento\n"
   ]
  },
  {
   "cell_type": "markdown",
   "metadata": {},
   "source": [
    "Faça aqui uma descrição do seu produto e o que considerou como relevante ou não relevante na classificação dos tweets.\n",
    "\n",
    "Nós pegamos como produto o iPhone X. Para sua classificação, dividimos os tweets em:\n",
    "\n",
    "* Propaganda/oferta (0)\n",
    "* Muito irrelevante (1)\n",
    "* Irrelevante (2)\n",
    "* Relevante (3)\n",
    "* Muito relevante (4)"
   ]
  },
  {
   "cell_type": "code",
   "execution_count": 5,
   "metadata": {},
   "outputs": [],
   "source": [
    "# Função cleanup que realiza a filtragem de caracteres desnecessários\n",
    "def cleanup(text):\n",
    "    punctuation = '[!-.:?;]'\n",
    "    pattern = re.compile(punctuation)\n",
    "    text_subbed = re.sub(pattern, '', text)\n",
    "    \n",
    "    text_subbed_list = text_subbed.split()\n",
    "    \n",
    "    for word in text_subbed_list:\n",
    "        if word[0] == '@' or word[:5] == 'https':\n",
    "            text_subbed_list.remove(word)\n",
    "        else:\n",
    "            pass\n",
    "    return ' '.join(text_subbed_list)  "
   ]
  },
  {
   "cell_type": "code",
   "execution_count": 6,
   "metadata": {},
   "outputs": [
    {
     "data": {
      "text/html": [
       "<div>\n",
       "<style scoped>\n",
       "    .dataframe tbody tr th:only-of-type {\n",
       "        vertical-align: middle;\n",
       "    }\n",
       "\n",
       "    .dataframe tbody tr th {\n",
       "        vertical-align: top;\n",
       "    }\n",
       "\n",
       "    .dataframe thead th {\n",
       "        text-align: right;\n",
       "    }\n",
       "</style>\n",
       "<table border=\"1\" class=\"dataframe\">\n",
       "  <thead>\n",
       "    <tr style=\"text-align: right;\">\n",
       "      <th></th>\n",
       "      <th>Treinamento</th>\n",
       "      <th>Classificação</th>\n",
       "    </tr>\n",
       "  </thead>\n",
       "  <tbody>\n",
       "    <tr>\n",
       "      <th>0</th>\n",
       "      <td>@iconredesign my prediction is the same but:\\n...</td>\n",
       "      <td>2</td>\n",
       "    </tr>\n",
       "    <tr>\n",
       "      <th>1</th>\n",
       "      <td>still have mine but i never connected to my ph...</td>\n",
       "      <td>1</td>\n",
       "    </tr>\n",
       "    <tr>\n",
       "      <th>2</th>\n",
       "      <td>iphone 11 na waste of money, just chill with x...</td>\n",
       "      <td>2</td>\n",
       "    </tr>\n",
       "    <tr>\n",
       "      <th>3</th>\n",
       "      <td>once the iphone 12 drops those using the iphon...</td>\n",
       "      <td>2</td>\n",
       "    </tr>\n",
       "    <tr>\n",
       "      <th>4</th>\n",
       "      <td>#ncat who fix’s phone ?? it’s a iphone x</td>\n",
       "      <td>1</td>\n",
       "    </tr>\n",
       "  </tbody>\n",
       "</table>\n",
       "</div>"
      ],
      "text/plain": [
       "                                         Treinamento  Classificação\n",
       "0  @iconredesign my prediction is the same but:\\n...              2\n",
       "1  still have mine but i never connected to my ph...              1\n",
       "2  iphone 11 na waste of money, just chill with x...              2\n",
       "3  once the iphone 12 drops those using the iphon...              2\n",
       "4           #ncat who fix’s phone ?? it’s a iphone x              1"
      ]
     },
     "execution_count": 6,
     "metadata": {},
     "output_type": "execute_result"
    }
   ],
   "source": [
    "train.head()"
   ]
  },
  {
   "cell_type": "code",
   "execution_count": 7,
   "metadata": {},
   "outputs": [
    {
     "data": {
      "text/html": [
       "<div>\n",
       "<style scoped>\n",
       "    .dataframe tbody tr th:only-of-type {\n",
       "        vertical-align: middle;\n",
       "    }\n",
       "\n",
       "    .dataframe tbody tr th {\n",
       "        vertical-align: top;\n",
       "    }\n",
       "\n",
       "    .dataframe thead th {\n",
       "        text-align: right;\n",
       "    }\n",
       "</style>\n",
       "<table border=\"1\" class=\"dataframe\">\n",
       "  <thead>\n",
       "    <tr style=\"text-align: right;\">\n",
       "      <th></th>\n",
       "      <th>Treinamento</th>\n",
       "      <th>Classificação</th>\n",
       "    </tr>\n",
       "  </thead>\n",
       "  <tbody>\n",
       "    <tr>\n",
       "      <th>0</th>\n",
       "      <td>my prediction is the same but a13 bionic face ...</td>\n",
       "      <td>2</td>\n",
       "    </tr>\n",
       "    <tr>\n",
       "      <th>1</th>\n",
       "      <td>still have mine but i never connected to my ph...</td>\n",
       "      <td>1</td>\n",
       "    </tr>\n",
       "    <tr>\n",
       "      <th>2</th>\n",
       "      <td>iphone 11 na waste of money just chill with x ...</td>\n",
       "      <td>2</td>\n",
       "    </tr>\n",
       "    <tr>\n",
       "      <th>3</th>\n",
       "      <td>once the iphone 12 drops those using the iphon...</td>\n",
       "      <td>2</td>\n",
       "    </tr>\n",
       "    <tr>\n",
       "      <th>4</th>\n",
       "      <td>ncat who fix’s phone it’s a iphone x</td>\n",
       "      <td>1</td>\n",
       "    </tr>\n",
       "    <tr>\n",
       "      <th>...</th>\n",
       "      <td>...</td>\n",
       "      <td>...</td>\n",
       "    </tr>\n",
       "    <tr>\n",
       "      <th>1245</th>\n",
       "      <td>and now the iphone 12p just seems like a borin...</td>\n",
       "      <td>3</td>\n",
       "    </tr>\n",
       "    <tr>\n",
       "      <th>1246</th>\n",
       "      <td>hi there my app isnt loading any data iphone x...</td>\n",
       "      <td>4</td>\n",
       "    </tr>\n",
       "    <tr>\n",
       "      <th>1247</th>\n",
       "      <td>word me too i have rocking this iphone x for a...</td>\n",
       "      <td>3</td>\n",
       "    </tr>\n",
       "    <tr>\n",
       "      <th>1248</th>\n",
       "      <td>jetech screen protector for iphone 11 pro ipho...</td>\n",
       "      <td>0</td>\n",
       "    </tr>\n",
       "    <tr>\n",
       "      <th>1249</th>\n",
       "      <td>iphone x</td>\n",
       "      <td>2</td>\n",
       "    </tr>\n",
       "  </tbody>\n",
       "</table>\n",
       "<p>1250 rows × 2 columns</p>\n",
       "</div>"
      ],
      "text/plain": [
       "                                            Treinamento  Classificação\n",
       "0     my prediction is the same but a13 bionic face ...              2\n",
       "1     still have mine but i never connected to my ph...              1\n",
       "2     iphone 11 na waste of money just chill with x ...              2\n",
       "3     once the iphone 12 drops those using the iphon...              2\n",
       "4                  ncat who fix’s phone it’s a iphone x              1\n",
       "...                                                 ...            ...\n",
       "1245  and now the iphone 12p just seems like a borin...              3\n",
       "1246  hi there my app isnt loading any data iphone x...              4\n",
       "1247  word me too i have rocking this iphone x for a...              3\n",
       "1248  jetech screen protector for iphone 11 pro ipho...              0\n",
       "1249                                           iphone x              2\n",
       "\n",
       "[1250 rows x 2 columns]"
      ]
     },
     "execution_count": 7,
     "metadata": {},
     "output_type": "execute_result"
    }
   ],
   "source": [
    "# Loop para realizar a limpeza\n",
    "for i in range(len(train)):\n",
    "    train.at[i,'Treinamento'] = cleanup(train.Treinamento[i]).lower() \n",
    "                                                                      \n",
    "train"
   ]
  },
  {
   "cell_type": "code",
   "execution_count": 8,
   "metadata": {},
   "outputs": [],
   "source": [
    "# Calculando o total de palavras no conjunto dos tweets \n",
    "total_palavras = 0 \n",
    "for phrase in train.Treinamento:\n",
    "    total_palavras += len(phrase.split())"
   ]
  },
  {
   "cell_type": "markdown",
   "metadata": {},
   "source": [
    "___\n",
    "### Montagens das séries e tabelas relativas para cada classificação\n",
    "\n",
    "Filtragem do dataframe para cada classficação, para assim montar as tabelas com as probabilidades de cada palavra dada uma classificação\n",
    "\n",
    "(TOKKI) Aqui não gostei muito do jeito que eu fiz, queria ter feito algo mais \"limpo\", pode mudar se tiver uma ideia melhor "
   ]
  },
  {
   "cell_type": "code",
   "execution_count": 9,
   "metadata": {},
   "outputs": [],
   "source": [
    "# Transformando a lista de palavras da classficação Propaganda/Oferta (0) em uma série\n",
    "lista_palavras_class_0 = []\n",
    "palavras_class_0 = train.loc[train.Classificação == 0,:]\n",
    "\n",
    "for phrase in palavras_class_0.Treinamento:\n",
    "    lista_palavras_class_0 += phrase.split()\n",
    "    \n",
    "series_palavras_class_0 = pd.Series(lista_palavras_class_0)"
   ]
  },
  {
   "cell_type": "code",
   "execution_count": 10,
   "metadata": {},
   "outputs": [],
   "source": [
    "# Transformando a lista de palavras da classficação Muito Irrelevante (1) em uma série\n",
    "lista_palavras_class_1 = []\n",
    "palavras_class_1 = train.loc[train.Classificação == 1,:]\n",
    "\n",
    "for phrase in palavras_class_1.Treinamento:\n",
    "    lista_palavras_class_1 += phrase.split()\n",
    "    \n",
    "series_palavras_class_1 = pd.Series(lista_palavras_class_1)"
   ]
  },
  {
   "cell_type": "code",
   "execution_count": 11,
   "metadata": {},
   "outputs": [],
   "source": [
    "# Transformando a lista de palavras da classficação Irrelevante (2) em uma série\n",
    "lista_palavras_class_2 = []\n",
    "palavras_class_2 = train.loc[train.Classificação == 2,:]\n",
    "\n",
    "for phrase in palavras_class_2.Treinamento:\n",
    "    lista_palavras_class_2 += phrase.split()\n",
    "    \n",
    "series_palavras_class_2 = pd.Series(lista_palavras_class_2)"
   ]
  },
  {
   "cell_type": "code",
   "execution_count": 12,
   "metadata": {},
   "outputs": [],
   "source": [
    "# Transformando a lista de palavras da classficação Relevante (3) em uma série\n",
    "lista_palavras_class_3 = []\n",
    "palavras_class_3 = train.loc[train.Classificação == 3,:]\n",
    "\n",
    "for phrase in palavras_class_3.Treinamento:\n",
    "    lista_palavras_class_3 += phrase.split()\n",
    "    \n",
    "series_palavras_class_3 = pd.Series(lista_palavras_class_3)"
   ]
  },
  {
   "cell_type": "code",
   "execution_count": 13,
   "metadata": {},
   "outputs": [],
   "source": [
    "# Transformando a lista de palavras da classficação Muito Relevante (4) em uma série\n",
    "lista_palavras_class_4 = []\n",
    "palavras_class_4 = train.loc[train.Classificação == 4,:]\n",
    "\n",
    "for phrase in palavras_class_4.Treinamento:\n",
    "    lista_palavras_class_4 += phrase.split()\n",
    "    \n",
    "series_palavras_class_4 = pd.Series(lista_palavras_class_4)"
   ]
  },
  {
   "cell_type": "code",
   "execution_count": 14,
   "metadata": {},
   "outputs": [],
   "source": [
    "# Calculando a quantidade de cada palavra dada a classificação\n",
    "qntd_absoluta_palavra_class_0 = series_palavras_class_0.value_counts()\n",
    "qntd_absoluta_palavra_class_1 = series_palavras_class_1.value_counts()\n",
    "qntd_absoluta_palavra_class_2 = series_palavras_class_2.value_counts()\n",
    "qntd_absoluta_palavra_class_3 = series_palavras_class_3.value_counts()\n",
    "qntd_absoluta_palavra_class_4 = series_palavras_class_4.value_counts()"
   ]
  },
  {
   "cell_type": "markdown",
   "metadata": {},
   "source": [
    "___\n",
    "### Montando um Classificador Naive-Bayes\n",
    "\n",
    "Considerando apenas as mensagens da planilha Treinamento, ensine  seu classificador."
   ]
  },
  {
   "cell_type": "code",
   "execution_count": 15,
   "metadata": {},
   "outputs": [],
   "source": [
    "# Calculando a probabilddiade de uma palavra pertencer à respectiva classificação\n",
    "P_0 = len(train.loc[train['Classificação']== 0,:]) / len(train)\n",
    "P_1 = len(train.loc[train['Classificação']== 1,:]) / len(train)\n",
    "P_2 = len(train.loc[train['Classificação']== 2,:]) / len(train)\n",
    "P_3 = len(train.loc[train['Classificação']== 3,:]) / len(train)\n",
    "P_4 = len(train.loc[train['Classificação']== 4,:]) / len(train)"
   ]
  },
  {
   "cell_type": "code",
   "execution_count": 16,
   "metadata": {},
   "outputs": [],
   "source": [
    "# Smoothing\n",
    "smoothing = {\n",
    "    'V': 10**6,\n",
    "    'alpha': 0.5\n",
    "}\n",
    "\n",
    "# Funções resposáveis em calcular as probabilidades com a aplicação do smoothing\n",
    "\n",
    "def prob_frase_dado_class_0(frase):\n",
    "    prob = 1\n",
    "    for palavra in frase.split():\n",
    "        try: # Verifica se a palavra está contida na série da respectiva categoria. \n",
    "            prob *= (qntd_absoluta_palavra_class_0[palavra] + smoothing['alpha']) / (qntd_absoluta_palavra_class_0.sum() + smoothing['alpha']*smoothing['V']) \n",
    "        except: # Caso a palavra não exista, a técnica de smoothing impede que a probabilidade resulte em zero\n",
    "            prob *= smoothing['alpha'] / (qntd_absoluta_palavra_class_0.sum() + smoothing['alpha']*smoothing['V'])\n",
    "                                                                              \n",
    "    return prob\n",
    "\n",
    "def prob_frase_dado_class_1(frase):\n",
    "    prob = 1\n",
    "    for palavra in frase.split():\n",
    "        try:\n",
    "            prob *= (qntd_absoluta_palavra_class_1[palavra] + smoothing['alpha']) / (qntd_absoluta_palavra_class_1.sum() + smoothing['alpha']*smoothing['V'])\n",
    "        except:\n",
    "            prob *= smoothing['alpha'] / (qntd_absoluta_palavra_class_1.sum() + smoothing['alpha']*smoothing['V'])\n",
    "                                                                              \n",
    "    return prob\n",
    "\n",
    "def prob_frase_dado_class_2(frase):\n",
    "    prob = 1\n",
    "    for palavra in frase.split():\n",
    "        try:\n",
    "            prob *= (qntd_absoluta_palavra_class_2[palavra] + smoothing['alpha']) / (qntd_absoluta_palavra_class_2.sum() + smoothing['alpha']*smoothing['V'])\n",
    "        except:\n",
    "            prob *= smoothing['alpha'] / (len(qntd_absoluta_palavra_class_2) + smoothing['alpha']*smoothing['V'])\n",
    "                                                                              \n",
    "    return prob\n",
    "\n",
    "def prob_frase_dado_class_3(frase):\n",
    "    prob = 1\n",
    "    for palavra in frase.split():\n",
    "        try:\n",
    "            prob *= (qntd_absoluta_palavra_class_3[palavra] + smoothing['alpha']) / (qntd_absoluta_palavra_class_3.sum() + smoothing['alpha']*smoothing['V'])\n",
    "        except:\n",
    "            prob *= smoothing['alpha'] / (qntd_absoluta_palavra_class_3.sum() + smoothing['alpha']*smoothing['V'])\n",
    "                                                                              \n",
    "    return prob\n",
    "\n",
    "def prob_frase_dado_class_4(frase):\n",
    "    prob = 1\n",
    "    for palavra in frase.split():\n",
    "        try:\n",
    "            prob *= (qntd_absoluta_palavra_class_4[palavra] + smoothing['alpha']) / (qntd_absoluta_palavra_class_4.sum() + smoothing['alpha']*smoothing['V'])\n",
    "        except:\n",
    "            prob *= smoothing['alpha'] / (qntd_absoluta_palavra_class_4.sum() + smoothing['alpha']*smoothing['V'])\n",
    "                                                                              \n",
    "    return prob"
   ]
  },
  {
   "cell_type": "code",
   "execution_count": 17,
   "metadata": {},
   "outputs": [],
   "source": [
    "def naive_bayes(tweet):\n",
    "    p_0_dado_frase = math.log(prob_frase_dado_class_0(tweet) * P_0)\n",
    "    p_1_dado_frase = math.log(prob_frase_dado_class_1(tweet) * P_1)\n",
    "    p_2_dado_frase = math.log(prob_frase_dado_class_2(tweet) * P_2)\n",
    "    p_3_dado_frase = math.log(prob_frase_dado_class_3(tweet) * P_3)\n",
    "    p_4_dado_frase = math.log(prob_frase_dado_class_4(tweet) * P_4)\n",
    "    \n",
    "    # As probabilidade são guardadas em uma lista, para assim, retornar o maior valor dela\n",
    "    lista_de_probabilidades = [p_0_dado_frase,\n",
    "                               p_1_dado_frase,\n",
    "                               p_2_dado_frase,\n",
    "                               p_3_dado_frase,\n",
    "                               p_4_dado_frase]\n",
    "    \n",
    "    #Já que a lista está ordenada de acordo com as categorias, o index da maior probabilidade será a própria classificação\n",
    "    return lista_de_probabilidades.index(max(lista_de_probabilidades))"
   ]
  },
  {
   "cell_type": "markdown",
   "metadata": {},
   "source": [
    "___\n",
    "### Verificando a performance do Classificador\n",
    "\n",
    "Agora você deve testar o seu classificador com a base de Testes."
   ]
  },
  {
   "cell_type": "code",
   "execution_count": 18,
   "metadata": {},
   "outputs": [
    {
     "data": {
      "text/html": [
       "<div>\n",
       "<style scoped>\n",
       "    .dataframe tbody tr th:only-of-type {\n",
       "        vertical-align: middle;\n",
       "    }\n",
       "\n",
       "    .dataframe tbody tr th {\n",
       "        vertical-align: top;\n",
       "    }\n",
       "\n",
       "    .dataframe thead th {\n",
       "        text-align: right;\n",
       "    }\n",
       "</style>\n",
       "<table border=\"1\" class=\"dataframe\">\n",
       "  <thead>\n",
       "    <tr style=\"text-align: right;\">\n",
       "      <th></th>\n",
       "      <th>Teste</th>\n",
       "      <th>Classificação</th>\n",
       "    </tr>\n",
       "  </thead>\n",
       "  <tbody>\n",
       "    <tr>\n",
       "      <th>0</th>\n",
       "      <td>right that’s exactly what happened when i got ...</td>\n",
       "      <td>3</td>\n",
       "    </tr>\n",
       "    <tr>\n",
       "      <th>1</th>\n",
       "      <td>some of us havent bought iphone x</td>\n",
       "      <td>2</td>\n",
       "    </tr>\n",
       "    <tr>\n",
       "      <th>2</th>\n",
       "      <td>@mlgcollegefess hs without condm and what did ...</td>\n",
       "      <td>1</td>\n",
       "    </tr>\n",
       "    <tr>\n",
       "      <th>3</th>\n",
       "      <td>very annoying that they didnt announce the new...</td>\n",
       "      <td>2</td>\n",
       "    </tr>\n",
       "    <tr>\n",
       "      <th>4</th>\n",
       "      <td>iphone x was released in november tho</td>\n",
       "      <td>2</td>\n",
       "    </tr>\n",
       "    <tr>\n",
       "      <th>5</th>\n",
       "      <td>what phone do you use — iphone x max</td>\n",
       "      <td>1</td>\n",
       "    </tr>\n",
       "    <tr>\n",
       "      <th>6</th>\n",
       "      <td>@trevorjd14 so when ill trade in my iphone x f...</td>\n",
       "      <td>2</td>\n",
       "    </tr>\n",
       "    <tr>\n",
       "      <th>7</th>\n",
       "      <td>apple iphone x 64gb space grey renewed amazon ...</td>\n",
       "      <td>0</td>\n",
       "    </tr>\n",
       "    <tr>\n",
       "      <th>8</th>\n",
       "      <td>hi i am having problems logging in to pay invo...</td>\n",
       "      <td>3</td>\n",
       "    </tr>\n",
       "    <tr>\n",
       "      <th>9</th>\n",
       "      <td>the xbox one x was discontinued though so that...</td>\n",
       "      <td>2</td>\n",
       "    </tr>\n",
       "  </tbody>\n",
       "</table>\n",
       "</div>"
      ],
      "text/plain": [
       "                                               Teste  Classificação\n",
       "0  right that’s exactly what happened when i got ...              3\n",
       "1                  some of us havent bought iphone x              2\n",
       "2  @mlgcollegefess hs without condm and what did ...              1\n",
       "3  very annoying that they didnt announce the new...              2\n",
       "4              iphone x was released in november tho              2\n",
       "5               what phone do you use — iphone x max              1\n",
       "6  @trevorjd14 so when ill trade in my iphone x f...              2\n",
       "7  apple iphone x 64gb space grey renewed amazon ...              0\n",
       "8  hi i am having problems logging in to pay invo...              3\n",
       "9  the xbox one x was discontinued though so that...              2"
      ]
     },
     "execution_count": 18,
     "metadata": {},
     "output_type": "execute_result"
    }
   ],
   "source": [
    "for i in range(len(test)):\n",
    "    test.at[i,'Teste'] = cleanup(test.Teste[i]).lower() \n",
    "                                                                      \n",
    "test.head(10)"
   ]
  },
  {
   "cell_type": "code",
   "execution_count": 19,
   "metadata": {},
   "outputs": [
    {
     "data": {
      "text/html": [
       "<div>\n",
       "<style scoped>\n",
       "    .dataframe tbody tr th:only-of-type {\n",
       "        vertical-align: middle;\n",
       "    }\n",
       "\n",
       "    .dataframe tbody tr th {\n",
       "        vertical-align: top;\n",
       "    }\n",
       "\n",
       "    .dataframe thead th {\n",
       "        text-align: right;\n",
       "    }\n",
       "</style>\n",
       "<table border=\"1\" class=\"dataframe\">\n",
       "  <thead>\n",
       "    <tr style=\"text-align: right;\">\n",
       "      <th></th>\n",
       "      <th>Teste</th>\n",
       "      <th>Classificação</th>\n",
       "      <th>NBayes</th>\n",
       "    </tr>\n",
       "  </thead>\n",
       "  <tbody>\n",
       "    <tr>\n",
       "      <th>0</th>\n",
       "      <td>right that’s exactly what happened when i got ...</td>\n",
       "      <td>3</td>\n",
       "      <td>1</td>\n",
       "    </tr>\n",
       "    <tr>\n",
       "      <th>1</th>\n",
       "      <td>some of us havent bought iphone x</td>\n",
       "      <td>2</td>\n",
       "      <td>1</td>\n",
       "    </tr>\n",
       "    <tr>\n",
       "      <th>2</th>\n",
       "      <td>@mlgcollegefess hs without condm and what did ...</td>\n",
       "      <td>1</td>\n",
       "      <td>1</td>\n",
       "    </tr>\n",
       "    <tr>\n",
       "      <th>3</th>\n",
       "      <td>very annoying that they didnt announce the new...</td>\n",
       "      <td>2</td>\n",
       "      <td>1</td>\n",
       "    </tr>\n",
       "    <tr>\n",
       "      <th>4</th>\n",
       "      <td>iphone x was released in november tho</td>\n",
       "      <td>2</td>\n",
       "      <td>1</td>\n",
       "    </tr>\n",
       "    <tr>\n",
       "      <th>...</th>\n",
       "      <td>...</td>\n",
       "      <td>...</td>\n",
       "      <td>...</td>\n",
       "    </tr>\n",
       "    <tr>\n",
       "      <th>720</th>\n",
       "      <td>mojosmartphone qi leather wireless charger htt...</td>\n",
       "      <td>0</td>\n",
       "      <td>0</td>\n",
       "    </tr>\n",
       "    <tr>\n",
       "      <th>721</th>\n",
       "      <td>shop anythingyoucanimagine https//tco/2xlxbref9m</td>\n",
       "      <td>0</td>\n",
       "      <td>0</td>\n",
       "    </tr>\n",
       "    <tr>\n",
       "      <th>722</th>\n",
       "      <td>glowing apple logo backlit led case for iphone...</td>\n",
       "      <td>0</td>\n",
       "      <td>0</td>\n",
       "    </tr>\n",
       "    <tr>\n",
       "      <th>723</th>\n",
       "      <td>shit crazy had this iphone x forever</td>\n",
       "      <td>2</td>\n",
       "      <td>1</td>\n",
       "    </tr>\n",
       "    <tr>\n",
       "      <th>724</th>\n",
       "      <td>@beemstarburner here is a even better version ...</td>\n",
       "      <td>2</td>\n",
       "      <td>1</td>\n",
       "    </tr>\n",
       "  </tbody>\n",
       "</table>\n",
       "<p>725 rows × 3 columns</p>\n",
       "</div>"
      ],
      "text/plain": [
       "                                                 Teste  Classificação  NBayes\n",
       "0    right that’s exactly what happened when i got ...              3       1\n",
       "1                    some of us havent bought iphone x              2       1\n",
       "2    @mlgcollegefess hs without condm and what did ...              1       1\n",
       "3    very annoying that they didnt announce the new...              2       1\n",
       "4                iphone x was released in november tho              2       1\n",
       "..                                                 ...            ...     ...\n",
       "720  mojosmartphone qi leather wireless charger htt...              0       0\n",
       "721   shop anythingyoucanimagine https//tco/2xlxbref9m              0       0\n",
       "722  glowing apple logo backlit led case for iphone...              0       0\n",
       "723               shit crazy had this iphone x forever              2       1\n",
       "724  @beemstarburner here is a even better version ...              2       1\n",
       "\n",
       "[725 rows x 3 columns]"
      ]
     },
     "execution_count": 19,
     "metadata": {},
     "output_type": "execute_result"
    }
   ],
   "source": [
    "test.loc[:,'NBayes'] = 0\n",
    "for i in range(len(test)):\n",
    "    test.iloc[i,2] = naive_bayes(test.Teste[i])\n",
    "test"
   ]
  },
  {
   "cell_type": "code",
   "execution_count": 20,
   "metadata": {},
   "outputs": [
    {
     "data": {
      "text/html": [
       "<div>\n",
       "<style scoped>\n",
       "    .dataframe tbody tr th:only-of-type {\n",
       "        vertical-align: middle;\n",
       "    }\n",
       "\n",
       "    .dataframe tbody tr th {\n",
       "        vertical-align: top;\n",
       "    }\n",
       "\n",
       "    .dataframe thead th {\n",
       "        text-align: right;\n",
       "    }\n",
       "</style>\n",
       "<table border=\"1\" class=\"dataframe\">\n",
       "  <thead>\n",
       "    <tr style=\"text-align: right;\">\n",
       "      <th>NBayes</th>\n",
       "      <th>0</th>\n",
       "      <th>1</th>\n",
       "      <th>2</th>\n",
       "      <th>3</th>\n",
       "    </tr>\n",
       "    <tr>\n",
       "      <th>Classificação</th>\n",
       "      <th></th>\n",
       "      <th></th>\n",
       "      <th></th>\n",
       "      <th></th>\n",
       "    </tr>\n",
       "  </thead>\n",
       "  <tbody>\n",
       "    <tr>\n",
       "      <th>0</th>\n",
       "      <td>0.187586</td>\n",
       "      <td>0.031724</td>\n",
       "      <td>0.000000</td>\n",
       "      <td>0.000000</td>\n",
       "    </tr>\n",
       "    <tr>\n",
       "      <th>1</th>\n",
       "      <td>0.008276</td>\n",
       "      <td>0.088276</td>\n",
       "      <td>0.000000</td>\n",
       "      <td>0.001379</td>\n",
       "    </tr>\n",
       "    <tr>\n",
       "      <th>2</th>\n",
       "      <td>0.027586</td>\n",
       "      <td>0.431724</td>\n",
       "      <td>0.001379</td>\n",
       "      <td>0.013793</td>\n",
       "    </tr>\n",
       "    <tr>\n",
       "      <th>3</th>\n",
       "      <td>0.000000</td>\n",
       "      <td>0.148966</td>\n",
       "      <td>0.005517</td>\n",
       "      <td>0.005517</td>\n",
       "    </tr>\n",
       "    <tr>\n",
       "      <th>4</th>\n",
       "      <td>0.000000</td>\n",
       "      <td>0.042759</td>\n",
       "      <td>0.001379</td>\n",
       "      <td>0.004138</td>\n",
       "    </tr>\n",
       "  </tbody>\n",
       "</table>\n",
       "</div>"
      ],
      "text/plain": [
       "NBayes                0         1         2         3\n",
       "Classificação                                        \n",
       "0              0.187586  0.031724  0.000000  0.000000\n",
       "1              0.008276  0.088276  0.000000  0.001379\n",
       "2              0.027586  0.431724  0.001379  0.013793\n",
       "3              0.000000  0.148966  0.005517  0.005517\n",
       "4              0.000000  0.042759  0.001379  0.004138"
      ]
     },
     "execution_count": 20,
     "metadata": {},
     "output_type": "execute_result"
    }
   ],
   "source": [
    "tabela_acuracia_teste = pd.crosstab(test.Classificação, test.NBayes, normalize = True)\n",
    "tabela_acuracia_teste"
   ]
  },
  {
   "cell_type": "code",
   "execution_count": 21,
   "metadata": {},
   "outputs": [
    {
     "name": "stdout",
     "output_type": "stream",
     "text": [
      "A taxa de acurácia do classificador no teste é de 28.28%\n"
     ]
    }
   ],
   "source": [
    "taxa_acuracia_teste = tabela_acuracia_teste.iloc[0,0] + tabela_acuracia_teste.iloc[1,1] + tabela_acuracia_teste.iloc[2,2] + tabela_acuracia_teste.iloc[3,3] \n",
    "print('A taxa de acurácia do classificador no teste é de {}%'.format(taxa_acuracia_teste.round(4)*100))"
   ]
  },
  {
   "cell_type": "code",
   "execution_count": 22,
   "metadata": {},
   "outputs": [],
   "source": [
    "train.loc[:,'NBayes'] = 0\n",
    "for i in range(len(train)):\n",
    "    train.iloc[i,2] = naive_bayes(train.Treinamento[i])"
   ]
  },
  {
   "cell_type": "code",
   "execution_count": 23,
   "metadata": {},
   "outputs": [
    {
     "data": {
      "text/html": [
       "<div>\n",
       "<style scoped>\n",
       "    .dataframe tbody tr th:only-of-type {\n",
       "        vertical-align: middle;\n",
       "    }\n",
       "\n",
       "    .dataframe tbody tr th {\n",
       "        vertical-align: top;\n",
       "    }\n",
       "\n",
       "    .dataframe thead th {\n",
       "        text-align: right;\n",
       "    }\n",
       "</style>\n",
       "<table border=\"1\" class=\"dataframe\">\n",
       "  <thead>\n",
       "    <tr style=\"text-align: right;\">\n",
       "      <th>NBayes</th>\n",
       "      <th>0</th>\n",
       "      <th>1</th>\n",
       "      <th>2</th>\n",
       "      <th>3</th>\n",
       "    </tr>\n",
       "    <tr>\n",
       "      <th>Classificação</th>\n",
       "      <th></th>\n",
       "      <th></th>\n",
       "      <th></th>\n",
       "      <th></th>\n",
       "    </tr>\n",
       "  </thead>\n",
       "  <tbody>\n",
       "    <tr>\n",
       "      <th>0</th>\n",
       "      <td>0.2104</td>\n",
       "      <td>0.0112</td>\n",
       "      <td>0.0008</td>\n",
       "      <td>0.0000</td>\n",
       "    </tr>\n",
       "    <tr>\n",
       "      <th>1</th>\n",
       "      <td>0.0056</td>\n",
       "      <td>0.3512</td>\n",
       "      <td>0.0000</td>\n",
       "      <td>0.0000</td>\n",
       "    </tr>\n",
       "    <tr>\n",
       "      <th>2</th>\n",
       "      <td>0.0024</td>\n",
       "      <td>0.1424</td>\n",
       "      <td>0.0504</td>\n",
       "      <td>0.0016</td>\n",
       "    </tr>\n",
       "    <tr>\n",
       "      <th>3</th>\n",
       "      <td>0.0008</td>\n",
       "      <td>0.0736</td>\n",
       "      <td>0.0000</td>\n",
       "      <td>0.0848</td>\n",
       "    </tr>\n",
       "    <tr>\n",
       "      <th>4</th>\n",
       "      <td>0.0000</td>\n",
       "      <td>0.0600</td>\n",
       "      <td>0.0000</td>\n",
       "      <td>0.0048</td>\n",
       "    </tr>\n",
       "  </tbody>\n",
       "</table>\n",
       "</div>"
      ],
      "text/plain": [
       "NBayes              0       1       2       3\n",
       "Classificação                                \n",
       "0              0.2104  0.0112  0.0008  0.0000\n",
       "1              0.0056  0.3512  0.0000  0.0000\n",
       "2              0.0024  0.1424  0.0504  0.0016\n",
       "3              0.0008  0.0736  0.0000  0.0848\n",
       "4              0.0000  0.0600  0.0000  0.0048"
      ]
     },
     "execution_count": 23,
     "metadata": {},
     "output_type": "execute_result"
    }
   ],
   "source": [
    "tabela_acuracia_treino = pd.crosstab(train.Classificação, train.NBayes, normalize = True)\n",
    "tabela_acuracia_treino"
   ]
  },
  {
   "cell_type": "code",
   "execution_count": 24,
   "metadata": {},
   "outputs": [
    {
     "name": "stdout",
     "output_type": "stream",
     "text": [
      "A taxa de acurácia do classificador no teste é de 69.67999999999999%\n"
     ]
    }
   ],
   "source": [
    "taxa_acuracia_treino = tabela_acuracia_treino.iloc[0,0] + tabela_acuracia_treino.iloc[1,1] + tabela_acuracia_treino.iloc[2,2] + tabela_acuracia_treino.iloc[3,3] \n",
    "print('A taxa de acurácia do classificador no teste é de {}%'.format(taxa_acuracia_treino.round(4)*100))"
   ]
  },
  {
   "cell_type": "markdown",
   "metadata": {},
   "source": [
    "___\n",
    "## Concluindo:"
   ]
  },
  {
   "cell_type": "markdown",
   "metadata": {},
   "source": [
    "___\n",
    "## Aperfeiçoamento:\n",
    "\n",
    "Os trabalhos vão evoluir em conceito dependendo da quantidade de itens avançados:\n",
    "\n",
    "* Limpar: \\n, :, \", ', (, ), etc SEM remover emojis\n",
    "* Corrigir separação de espaços entre palavras e emojis ou entre emojis e emojis\n",
    "* Propor outras limpezas e transformações que não afetem a qualidade da informação ou classificação\n",
    "* Criar categorias intermediárias de relevância baseadas na probabilidade: ex.: muito relevante, relevante, neutro, irrelevante, muito irrelevante (3 categorias: C, mais categorias conta para B)\n",
    "* Explicar por que não posso usar o próprio classificador para gerar mais amostras de treinamento\n",
    "* Propor diferentes cenários para Naïve Bayes fora do contexto do projeto\n",
    "* Sugerir e explicar melhorias reais com indicações concretas de como implementar (indicar como fazer e indicar material de pesquisa)\n",
    "* Montar um dashboard que realiza análise de sentimento e visualiza estes dados"
   ]
  },
  {
   "cell_type": "markdown",
   "metadata": {},
   "source": [
    "___\n",
    "## Referências"
   ]
  },
  {
   "cell_type": "markdown",
   "metadata": {},
   "source": [
    "[Naive Bayes and Text Classification](https://arxiv.org/pdf/1410.5329.pdf)  **Mais completo**\n",
    "\n",
    "[A practical explanation of a Naive Bayes Classifier](https://monkeylearn.com/blog/practical-explanation-naive-bayes-classifier/) **Mais simples**"
   ]
  },
  {
   "cell_type": "markdown",
   "metadata": {},
   "source": []
  },
  {
   "cell_type": "code",
   "execution_count": 25,
   "metadata": {},
   "outputs": [],
   "source": [
    "# dict_lista_palavras = {}\n",
    "\n",
    "# for index_class in range(5):\n",
    "#     palavras_class = train.loc[train.Classificação == index_class,:]\n",
    "#     lista = []\n",
    "#     for phrase in palavras_class.Treinamento:\n",
    "#         lista += phrase.split()\n",
    "#     dict_lista_palavras[index_class] = lista\n",
    "\n",
    "# dt_palavras = pd.DataFrame.from_dict({ key:pd.Series(value) for key, value in dict_lista_palavras.items() })\n",
    "# dt_palavras"
   ]
  }
 ],
 "metadata": {
  "kernelspec": {
   "display_name": "Python 3",
   "language": "python",
   "name": "python3"
  },
  "language_info": {
   "codemirror_mode": {
    "name": "ipython",
    "version": 3
   },
   "file_extension": ".py",
   "mimetype": "text/x-python",
   "name": "python",
   "nbconvert_exporter": "python",
   "pygments_lexer": "ipython3",
   "version": "3.8.3"
  }
 },
 "nbformat": 4,
 "nbformat_minor": 4
}
