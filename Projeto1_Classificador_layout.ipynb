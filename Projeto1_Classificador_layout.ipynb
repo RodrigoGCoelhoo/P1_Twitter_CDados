{
 "cells": [
  {
   "cell_type": "markdown",
   "metadata": {},
   "source": [
    "# Projeto 1 - Ciência dos Dados"
   ]
  },
  {
   "cell_type": "markdown",
   "metadata": {},
   "source": [
    "Nome: Paulo Kim\n",
    "\n",
    "Nome: Rodrigo Coelho"
   ]
  },
  {
   "cell_type": "markdown",
   "metadata": {},
   "source": [
    "**Atenção:** Serão permitidos grupos de três pessoas, mas com uma rubrica mais exigente. Grupos deste tamanho precisarão fazer um questionário de avaliação de trabalho em equipe"
   ]
  },
  {
   "cell_type": "markdown",
   "metadata": {},
   "source": [
    "___\n",
    "Carregando algumas bibliotecas:"
   ]
  },
  {
   "cell_type": "code",
   "execution_count": 1,
   "metadata": {},
   "outputs": [],
   "source": [
    "%matplotlib inline\n",
    "import pandas as pd\n",
    "import matplotlib.pyplot as plt\n",
    "import numpy as np\n",
    "import os\n",
    "import re"
   ]
  },
  {
   "cell_type": "markdown",
   "metadata": {},
   "source": [
    "**Em `filename`, coloque o nome do seu arquivo de dados!**"
   ]
  },
  {
   "cell_type": "code",
   "execution_count": 2,
   "metadata": {},
   "outputs": [
    {
     "name": "stdout",
     "output_type": "stream",
     "text": [
      "Encontrei o arquivo iPhone_X.xlsx, tudo certo para prosseguir com a prova!\n"
     ]
    }
   ],
   "source": [
    "import os\n",
    "\n",
    "filename = 'iPhone_X.xlsx'\n",
    "if filename in os.listdir():\n",
    "    print(f'Encontrei o arquivo {filename}, tudo certo para prosseguir com a prova!')\n",
    "else:\n",
    "    print(f'Não encontrei o arquivo {filename} aqui no diretório {os.getcwd()}, será que você não baixou o arquivo?')"
   ]
  },
  {
   "cell_type": "markdown",
   "metadata": {},
   "source": [
    "Carregando a base de dados com os tweets classificados como relevantes e não relevantes:"
   ]
  },
  {
   "cell_type": "code",
   "execution_count": 3,
   "metadata": {},
   "outputs": [
    {
     "data": {
      "text/html": [
       "<div>\n",
       "<style scoped>\n",
       "    .dataframe tbody tr th:only-of-type {\n",
       "        vertical-align: middle;\n",
       "    }\n",
       "\n",
       "    .dataframe tbody tr th {\n",
       "        vertical-align: top;\n",
       "    }\n",
       "\n",
       "    .dataframe thead th {\n",
       "        text-align: right;\n",
       "    }\n",
       "</style>\n",
       "<table border=\"1\" class=\"dataframe\">\n",
       "  <thead>\n",
       "    <tr style=\"text-align: right;\">\n",
       "      <th></th>\n",
       "      <th>Treinamento</th>\n",
       "      <th>Classificação</th>\n",
       "    </tr>\n",
       "  </thead>\n",
       "  <tbody>\n",
       "    <tr>\n",
       "      <th>0</th>\n",
       "      <td>@iconredesign my prediction is the same but:\\n...</td>\n",
       "      <td>2</td>\n",
       "    </tr>\n",
       "    <tr>\n",
       "      <th>1</th>\n",
       "      <td>still have mine but i never connected to my ph...</td>\n",
       "      <td>1</td>\n",
       "    </tr>\n",
       "    <tr>\n",
       "      <th>2</th>\n",
       "      <td>iphone 11 na waste of money, just chill with x...</td>\n",
       "      <td>2</td>\n",
       "    </tr>\n",
       "    <tr>\n",
       "      <th>3</th>\n",
       "      <td>once the iphone 12 drops those using the iphon...</td>\n",
       "      <td>2</td>\n",
       "    </tr>\n",
       "    <tr>\n",
       "      <th>4</th>\n",
       "      <td>#ncat who fix’s phone ?? it’s a iphone x</td>\n",
       "      <td>1</td>\n",
       "    </tr>\n",
       "  </tbody>\n",
       "</table>\n",
       "</div>"
      ],
      "text/plain": [
       "                                         Treinamento  Classificação\n",
       "0  @iconredesign my prediction is the same but:\\n...              2\n",
       "1  still have mine but i never connected to my ph...              1\n",
       "2  iphone 11 na waste of money, just chill with x...              2\n",
       "3  once the iphone 12 drops those using the iphon...              2\n",
       "4           #ncat who fix’s phone ?? it’s a iphone x              1"
      ]
     },
     "execution_count": 3,
     "metadata": {},
     "output_type": "execute_result"
    }
   ],
   "source": [
    "train = pd.read_excel(filename)\n",
    "train = train.iloc[:,:2]\n",
    "train.head(5)"
   ]
  },
  {
   "cell_type": "code",
   "execution_count": 4,
   "metadata": {},
   "outputs": [
    {
     "data": {
      "text/html": [
       "<div>\n",
       "<style scoped>\n",
       "    .dataframe tbody tr th:only-of-type {\n",
       "        vertical-align: middle;\n",
       "    }\n",
       "\n",
       "    .dataframe tbody tr th {\n",
       "        vertical-align: top;\n",
       "    }\n",
       "\n",
       "    .dataframe thead th {\n",
       "        text-align: right;\n",
       "    }\n",
       "</style>\n",
       "<table border=\"1\" class=\"dataframe\">\n",
       "  <thead>\n",
       "    <tr style=\"text-align: right;\">\n",
       "      <th></th>\n",
       "      <th>Teste</th>\n",
       "      <th>Classificação</th>\n",
       "    </tr>\n",
       "  </thead>\n",
       "  <tbody>\n",
       "    <tr>\n",
       "      <th>0</th>\n",
       "      <td>@starrynight024 right?? that’s exactly what ha...</td>\n",
       "      <td>3</td>\n",
       "    </tr>\n",
       "    <tr>\n",
       "      <th>1</th>\n",
       "      <td>@gossipgirliee some of us haven't bought iphone x</td>\n",
       "      <td>2</td>\n",
       "    </tr>\n",
       "    <tr>\n",
       "      <th>2</th>\n",
       "      <td>@manyaww @mlgcollegefess hs without cond*m and...</td>\n",
       "      <td>1</td>\n",
       "    </tr>\n",
       "    <tr>\n",
       "      <th>3</th>\n",
       "      <td>very annoying that they didn't announce the ne...</td>\n",
       "      <td>2</td>\n",
       "    </tr>\n",
       "    <tr>\n",
       "      <th>4</th>\n",
       "      <td>@clarkvolo iphone x was released in november tho</td>\n",
       "      <td>2</td>\n",
       "    </tr>\n",
       "  </tbody>\n",
       "</table>\n",
       "</div>"
      ],
      "text/plain": [
       "                                               Teste  Classificação\n",
       "0  @starrynight024 right?? that’s exactly what ha...              3\n",
       "1  @gossipgirliee some of us haven't bought iphone x              2\n",
       "2  @manyaww @mlgcollegefess hs without cond*m and...              1\n",
       "3  very annoying that they didn't announce the ne...              2\n",
       "4   @clarkvolo iphone x was released in november tho              2"
      ]
     },
     "execution_count": 4,
     "metadata": {},
     "output_type": "execute_result"
    }
   ],
   "source": [
    "test = pd.read_excel(filename, sheet_name = 'Teste')\n",
    "test = test.iloc[:,:2]\n",
    "test.head(5)"
   ]
  },
  {
   "cell_type": "markdown",
   "metadata": {},
   "source": [
    "___\n",
    "## Classificador automático de sentimento\n"
   ]
  },
  {
   "cell_type": "markdown",
   "metadata": {},
   "source": [
    "Faça aqui uma descrição do seu produto e o que considerou como relevante ou não relevante na classificação dos tweets.\n",
    "\n",
    "Nós pegamos como produto o iPhone X. Para sua classificação, dividimos os tweets em:\n",
    "\n",
    "* Propaganda/oferta (0)\n",
    "* Muito irrelevante (1)\n",
    "* Irrelevante (2)\n",
    "* Relevante (3)\n",
    "* Muito relevante (4)"
   ]
  },
  {
   "cell_type": "markdown",
   "metadata": {},
   "source": [
    "TITULO LIMPEZA"
   ]
  },
  {
   "cell_type": "code",
   "execution_count": 5,
   "metadata": {},
   "outputs": [],
   "source": [
    "# Cleanup\n",
    "def cleanup(text):\n",
    "    punctuation = '[!-.:?;]'\n",
    "    pattern = re.compile(punctuation)\n",
    "    text_subbed = re.sub(pattern, '', text)\n",
    "    \n",
    "    text_subbed_list = text_subbed.split()\n",
    "    \n",
    "    for word in text_subbed_list:\n",
    "        if '@' in word or word[:5] == 'https':\n",
    "            text_subbed_list.remove(word)\n",
    "        else:\n",
    "            pass\n",
    "    return ' '.join(text_subbed_list)  "
   ]
  },
  {
   "cell_type": "code",
   "execution_count": 6,
   "metadata": {},
   "outputs": [
    {
     "data": {
      "text/html": [
       "<div>\n",
       "<style scoped>\n",
       "    .dataframe tbody tr th:only-of-type {\n",
       "        vertical-align: middle;\n",
       "    }\n",
       "\n",
       "    .dataframe tbody tr th {\n",
       "        vertical-align: top;\n",
       "    }\n",
       "\n",
       "    .dataframe thead th {\n",
       "        text-align: right;\n",
       "    }\n",
       "</style>\n",
       "<table border=\"1\" class=\"dataframe\">\n",
       "  <thead>\n",
       "    <tr style=\"text-align: right;\">\n",
       "      <th></th>\n",
       "      <th>Treinamento</th>\n",
       "      <th>Classificação</th>\n",
       "    </tr>\n",
       "  </thead>\n",
       "  <tbody>\n",
       "    <tr>\n",
       "      <th>0</th>\n",
       "      <td>my prediction is the same but a13 bionic face ...</td>\n",
       "      <td>2</td>\n",
       "    </tr>\n",
       "    <tr>\n",
       "      <th>1</th>\n",
       "      <td>still have mine but i never connected to my ph...</td>\n",
       "      <td>1</td>\n",
       "    </tr>\n",
       "    <tr>\n",
       "      <th>2</th>\n",
       "      <td>iphone 11 na waste of money just chill with x ...</td>\n",
       "      <td>2</td>\n",
       "    </tr>\n",
       "    <tr>\n",
       "      <th>3</th>\n",
       "      <td>once the iphone 12 drops those using the iphon...</td>\n",
       "      <td>2</td>\n",
       "    </tr>\n",
       "    <tr>\n",
       "      <th>4</th>\n",
       "      <td>ncat who fix’s phone it’s a iphone x</td>\n",
       "      <td>1</td>\n",
       "    </tr>\n",
       "    <tr>\n",
       "      <th>5</th>\n",
       "      <td>[help] [iphone x] [ios 137] [checkra1n] when s...</td>\n",
       "      <td>1</td>\n",
       "    </tr>\n",
       "    <tr>\n",
       "      <th>6</th>\n",
       "      <td>rip iphone xyou were a great phone until i acc...</td>\n",
       "      <td>1</td>\n",
       "    </tr>\n",
       "    <tr>\n",
       "      <th>7</th>\n",
       "      <td>how do i reconnect to bluetooth on iphone x</td>\n",
       "      <td>1</td>\n",
       "    </tr>\n",
       "    <tr>\n",
       "      <th>8</th>\n",
       "      <td>my phone is xiaomi mi mix 2 also my phone is i...</td>\n",
       "      <td>1</td>\n",
       "    </tr>\n",
       "    <tr>\n",
       "      <th>9</th>\n",
       "      <td>bypass with iphones network blocked on activat...</td>\n",
       "      <td>0</td>\n",
       "    </tr>\n",
       "  </tbody>\n",
       "</table>\n",
       "</div>"
      ],
      "text/plain": [
       "                                         Treinamento  Classificação\n",
       "0  my prediction is the same but a13 bionic face ...              2\n",
       "1  still have mine but i never connected to my ph...              1\n",
       "2  iphone 11 na waste of money just chill with x ...              2\n",
       "3  once the iphone 12 drops those using the iphon...              2\n",
       "4               ncat who fix’s phone it’s a iphone x              1\n",
       "5  [help] [iphone x] [ios 137] [checkra1n] when s...              1\n",
       "6  rip iphone xyou were a great phone until i acc...              1\n",
       "7        how do i reconnect to bluetooth on iphone x              1\n",
       "8  my phone is xiaomi mi mix 2 also my phone is i...              1\n",
       "9  bypass with iphones network blocked on activat...              0"
      ]
     },
     "execution_count": 6,
     "metadata": {},
     "output_type": "execute_result"
    }
   ],
   "source": [
    "# Loop para realizar a limpeza\n",
    "for i in range(len(train)):\n",
    "    train.at[i,'Treinamento'] = cleanup(train.Treinamento[i]).lower() # (TOKKI) catei esse df.at do stack, ele basicamente altera o valor da respectiva row. Tava tentando outros\n",
    "                                                                      # métodos, mas não tava funcionando, aí no final usei esse\n",
    "    \n",
    "train.head(10)"
   ]
  },
  {
   "cell_type": "code",
   "execution_count": 7,
   "metadata": {},
   "outputs": [],
   "source": [
    "# Calculando o total de palavras no conjunto dos tweets \n",
    "total_palavras = 0 \n",
    "for phrase in train.Treinamento:\n",
    "    total_palavras += len(phrase.split())"
   ]
  },
  {
   "cell_type": "markdown",
   "metadata": {},
   "source": [
    "___\n",
    "### Montagens das séries e tabelas relativas para cada classificação\n",
    "\n",
    "Filtragem do dataframe para cada classficação, para assim montar as tabelas com as probabilidades de cada palavra dada uma classificação\n",
    "\n",
    "(TOKKI) Aqui não gostei muito do jeito que eu fiz, queria ter feito algo mais \"limpo\", pode mudar se tiver uma ideia melhor "
   ]
  },
  {
   "cell_type": "code",
   "execution_count": 8,
   "metadata": {},
   "outputs": [
    {
     "data": {
      "text/plain": [
       "0                      bypass\n",
       "1                        with\n",
       "2                     iphones\n",
       "3                     network\n",
       "4                     blocked\n",
       "                ...          \n",
       "7621                 tempered\n",
       "7622                    glass\n",
       "7623                     film\n",
       "7624                    2pack\n",
       "7625    https//tco/9pclfcslnu\n",
       "Length: 7626, dtype: object"
      ]
     },
     "execution_count": 8,
     "metadata": {},
     "output_type": "execute_result"
    }
   ],
   "source": [
    "# Transformando a lista de palavras da classficação Propaganda/Oferta (0) em uma série\n",
    "lista_palavras_class_0 = []\n",
    "palavras_class_0 = train.loc[train.Classificação == 0,:]\n",
    "\n",
    "for phrase in palavras_class_0.Treinamento:\n",
    "    lista_palavras_class_0 += phrase.split()\n",
    "    \n",
    "series_palavras_class_0 = pd.Series(lista_palavras_class_0)\n",
    "series_palavras_class_0"
   ]
  },
  {
   "cell_type": "code",
   "execution_count": 9,
   "metadata": {},
   "outputs": [],
   "source": [
    "# Transformando a lista de palavras da classficação Muito Irrelevante (1) em uma série\n",
    "lista_palavras_class_1 = []\n",
    "palavras_class_1 = train.loc[train.Classificação == 1,:]\n",
    "\n",
    "for phrase in palavras_class_1.Treinamento:\n",
    "    lista_palavras_class_1 += phrase.split()\n",
    "    \n",
    "series_palavras_class_1 = pd.Series(lista_palavras_class_1)"
   ]
  },
  {
   "cell_type": "code",
   "execution_count": 10,
   "metadata": {},
   "outputs": [],
   "source": [
    "# Transformando a lista de palavras da classficação Irrelevante (2) em uma série\n",
    "lista_palavras_class_2 = []\n",
    "palavras_class_2 = train.loc[train.Classificação == 2,:]\n",
    "\n",
    "for phrase in palavras_class_2.Treinamento:\n",
    "    lista_palavras_class_2 += phrase.split()\n",
    "    \n",
    "series_palavras_class_2 = pd.Series(lista_palavras_class_2)"
   ]
  },
  {
   "cell_type": "code",
   "execution_count": 11,
   "metadata": {},
   "outputs": [],
   "source": [
    "# Transformando a lista de palavras da classficação Relevante (3) em uma série\n",
    "lista_palavras_class_3 = []\n",
    "palavras_class_3 = train.loc[train.Classificação == 3,:]\n",
    "\n",
    "for phrase in palavras_class_3.Treinamento:\n",
    "    lista_palavras_class_3 += phrase.split()\n",
    "    \n",
    "series_palavras_class_3 = pd.Series(lista_palavras_class_3)"
   ]
  },
  {
   "cell_type": "code",
   "execution_count": 12,
   "metadata": {},
   "outputs": [],
   "source": [
    "# Transformando a lista de palavras da classficação Muito Relevante (4) em uma série\n",
    "lista_palavras_class_4 = []\n",
    "palavras_class_4 = train.loc[train.Classificação == 4,:]\n",
    "\n",
    "for phrase in palavras_class_4.Treinamento:\n",
    "    lista_palavras_class_4 += phrase.split()\n",
    "    \n",
    "series_palavras_class_4 = pd.Series(lista_palavras_class_4)"
   ]
  },
  {
   "cell_type": "code",
   "execution_count": 13,
   "metadata": {},
   "outputs": [],
   "source": [
    "# Definindo as probabilidades das palavras dada a classificação\n",
    "tabela_palavra_class_0 = series_palavras_class_0.value_counts()\n",
    "tabela_palavra_class_1 = series_palavras_class_1.value_counts()\n",
    "tabela_palavra_class_2 = series_palavras_class_2.value_counts()\n",
    "tabela_palavra_class_3 = series_palavras_class_3.value_counts()\n",
    "tabela_palavra_class_4 = series_palavras_class_4.value_counts()"
   ]
  },
  {
   "cell_type": "code",
   "execution_count": 14,
   "metadata": {},
   "outputs": [
    {
     "name": "stdout",
     "output_type": "stream",
     "text": [
      "iphone            539\n",
      "x                 395\n",
      "the               293\n",
      "i                 169\n",
      "a                 142\n",
      "                 ... \n",
      "aluminium           1\n",
      "exchange            1\n",
      "reduced             1\n",
      "lg                  1\n",
      "roadwayroadway      1\n",
      "Length: 2332, dtype: int64\n"
     ]
    }
   ],
   "source": [
    "print(tabela_palavra_class_1)"
   ]
  },
  {
   "cell_type": "markdown",
   "metadata": {},
   "source": [
    "___\n",
    "### Montando um Classificador Naive-Bayes\n",
    "\n",
    "Considerando apenas as mensagens da planilha Treinamento, ensine  seu classificador."
   ]
  },
  {
   "cell_type": "code",
   "execution_count": 15,
   "metadata": {},
   "outputs": [],
   "source": [
    "# Calculando a probabilddiade da palavra pertencer a respectiva classificação   \n",
    "P_0 = len(lista_palavras_class_0) / total_palavras\n",
    "P_1 = len(lista_palavras_class_1) / total_palavras\n",
    "P_2 = len(lista_palavras_class_2) / total_palavras\n",
    "P_3 = len(lista_palavras_class_3) / total_palavras\n",
    "P_4 = len(lista_palavras_class_4) / total_palavras"
   ]
  },
  {
   "cell_type": "code",
   "execution_count": 16,
   "metadata": {},
   "outputs": [],
   "source": [
    "# Smoothing\n",
    "smoothing = {\n",
    "    \n",
    "    'V': 10**3,\n",
    "    'alpha': 1\n",
    "}\n",
    "\n",
    "# Funções resposáveis em calcular as probabilidades com a aplicação do smoothing\n",
    "\n",
    "def prob_frase_dado_class_0(frase):\n",
    "    prob = 1\n",
    "    for palavra in frase.split():\n",
    "        try:\n",
    "            prob *= (tabela_palavra_class_0[palavra] + smoothing['alpha']) / (len(lista_palavras_class_0) + smoothing['alpha']*smoothing['V'])\n",
    "        except:\n",
    "            prob *= smoothing['alpha'] / (len(lista_palavras_class_0) + smoothing['alpha']*smoothing['V'])\n",
    "                                                                              \n",
    "    return prob\n",
    "\n",
    "def prob_frase_dado_class_1(frase):\n",
    "    prob = 1\n",
    "    for palavra in frase.split():\n",
    "        try:\n",
    "            prob *= (tabela_palavra_class_1[palavra] + smoothing['alpha']) / (len(lista_palavras_class_1) + smoothing['alpha']*smoothing['V'])\n",
    "        except:\n",
    "            prob *= smoothing['alpha'] / (len(lista_palavras_class_1) + smoothing['alpha']*smoothing['V'])\n",
    "                                                                              \n",
    "    return prob\n",
    "\n",
    "def prob_frase_dado_class_2(frase):\n",
    "    prob = 1\n",
    "    for palavra in frase.split():\n",
    "        try:\n",
    "            prob *= (tabela_palavra_class_2[palavra] + smoothing['alpha']) / (len(lista_palavras_class_2) + smoothing['alpha']*smoothing['V'])\n",
    "        except:\n",
    "            prob *= smoothing['alpha'] / (len(lista_palavras_class_2) + smoothing['alpha']*smoothing['V'])\n",
    "                                                                              \n",
    "    return prob\n",
    "\n",
    "def prob_frase_dado_class_3(frase):\n",
    "    prob = 1\n",
    "    for palavra in frase.split():\n",
    "        try:\n",
    "            prob *= (tabela_palavra_class_3[palavra] + smoothing['alpha']) / (len(lista_palavras_class_3) + smoothing['alpha']*smoothing['V'])\n",
    "        except:\n",
    "            prob *= smoothing['alpha'] / (len(lista_palavras_class_3) + smoothing['alpha']*smoothing['V'])\n",
    "                                                                              \n",
    "    return prob\n",
    "\n",
    "def prob_frase_dado_class_4(frase):\n",
    "    prob = 1\n",
    "    for palavra in frase.split():\n",
    "        try:\n",
    "            prob *= (tabela_palavra_class_4[palavra] + smoothing['alpha']) / (len(lista_palavras_class_4) + smoothing['alpha']*smoothing['V'])\n",
    "        except:\n",
    "            prob *= smoothing['alpha'] / (len(lista_palavras_class_4) + smoothing['alpha']*smoothing['V'])\n",
    "                                                                              \n",
    "    return prob"
   ]
  },
  {
   "cell_type": "code",
   "execution_count": 17,
   "metadata": {},
   "outputs": [],
   "source": [
    "def naive_bayes(tweet):\n",
    "    p_0_dado_frase = prob_frase_dado_class_0(tweet) * P_0\n",
    "    p_1_dado_frase = prob_frase_dado_class_1(tweet) * P_1\n",
    "    p_2_dado_frase = prob_frase_dado_class_2(tweet) * P_2\n",
    "    p_3_dado_frase = prob_frase_dado_class_3(tweet) * P_3\n",
    "    p_4_dado_frase = prob_frase_dado_class_4(tweet) * P_4\n",
    "    \n",
    "    lista_de_probabilidades = [p_0_dado_frase,\n",
    "                               p_1_dado_frase,\n",
    "                               p_2_dado_frase,\n",
    "                               p_3_dado_frase,\n",
    "                               p_4_dado_frase]\n",
    "    \n",
    "    return lista_de_probabilidades.index(max(lista_de_probabilidades))"
   ]
  },
  {
   "cell_type": "markdown",
   "metadata": {},
   "source": [
    "___\n",
    "### Verificando a performance do Classificador\n",
    "\n",
    "Agora você deve testar o seu classificador com a base de Testes."
   ]
  },
  {
   "cell_type": "code",
   "execution_count": 18,
   "metadata": {},
   "outputs": [],
   "source": [
    "test.loc[:,'NBayes'] = 0\n",
    "for i in range(len(test)):\n",
    "    test.iloc[i,2] = naive_bayes(test.Teste[i])"
   ]
  },
  {
   "cell_type": "code",
   "execution_count": 32,
   "metadata": {},
   "outputs": [
    {
     "data": {
      "text/html": [
       "<div>\n",
       "<style scoped>\n",
       "    .dataframe tbody tr th:only-of-type {\n",
       "        vertical-align: middle;\n",
       "    }\n",
       "\n",
       "    .dataframe tbody tr th {\n",
       "        vertical-align: top;\n",
       "    }\n",
       "\n",
       "    .dataframe thead th {\n",
       "        text-align: right;\n",
       "    }\n",
       "</style>\n",
       "<table border=\"1\" class=\"dataframe\">\n",
       "  <thead>\n",
       "    <tr style=\"text-align: right;\">\n",
       "      <th></th>\n",
       "      <th>Teste</th>\n",
       "      <th>Classificação</th>\n",
       "      <th>NBayes</th>\n",
       "    </tr>\n",
       "  </thead>\n",
       "  <tbody>\n",
       "    <tr>\n",
       "      <th>0</th>\n",
       "      <td>@starrynight024 right?? that’s exactly what ha...</td>\n",
       "      <td>3</td>\n",
       "      <td>4</td>\n",
       "    </tr>\n",
       "    <tr>\n",
       "      <th>1</th>\n",
       "      <td>@gossipgirliee some of us haven't bought iphone x</td>\n",
       "      <td>2</td>\n",
       "      <td>2</td>\n",
       "    </tr>\n",
       "    <tr>\n",
       "      <th>2</th>\n",
       "      <td>@manyaww @mlgcollegefess hs without cond*m and...</td>\n",
       "      <td>1</td>\n",
       "      <td>2</td>\n",
       "    </tr>\n",
       "    <tr>\n",
       "      <th>3</th>\n",
       "      <td>very annoying that they didn't announce the ne...</td>\n",
       "      <td>2</td>\n",
       "      <td>3</td>\n",
       "    </tr>\n",
       "    <tr>\n",
       "      <th>4</th>\n",
       "      <td>@clarkvolo iphone x was released in november tho</td>\n",
       "      <td>2</td>\n",
       "      <td>2</td>\n",
       "    </tr>\n",
       "    <tr>\n",
       "      <th>...</th>\n",
       "      <td>...</td>\n",
       "      <td>...</td>\n",
       "      <td>...</td>\n",
       "    </tr>\n",
       "    <tr>\n",
       "      <th>720</th>\n",
       "      <td>#mojosmartphone qi leather wireless charger ht...</td>\n",
       "      <td>0</td>\n",
       "      <td>0</td>\n",
       "    </tr>\n",
       "    <tr>\n",
       "      <th>721</th>\n",
       "      <td>shop #anythingyoucanimagine @takealot https://...</td>\n",
       "      <td>0</td>\n",
       "      <td>4</td>\n",
       "    </tr>\n",
       "    <tr>\n",
       "      <th>722</th>\n",
       "      <td>glowing apple logo backlit led case for iphone...</td>\n",
       "      <td>0</td>\n",
       "      <td>0</td>\n",
       "    </tr>\n",
       "    <tr>\n",
       "      <th>723</th>\n",
       "      <td>shit crazy had this iphone x forever https://t...</td>\n",
       "      <td>2</td>\n",
       "      <td>3</td>\n",
       "    </tr>\n",
       "    <tr>\n",
       "      <th>724</th>\n",
       "      <td>@typingmask27 @beemstarburner @callmeagent00 h...</td>\n",
       "      <td>2</td>\n",
       "      <td>4</td>\n",
       "    </tr>\n",
       "  </tbody>\n",
       "</table>\n",
       "<p>725 rows × 3 columns</p>\n",
       "</div>"
      ],
      "text/plain": [
       "                                                 Teste  Classificação  NBayes\n",
       "0    @starrynight024 right?? that’s exactly what ha...              3       4\n",
       "1    @gossipgirliee some of us haven't bought iphone x              2       2\n",
       "2    @manyaww @mlgcollegefess hs without cond*m and...              1       2\n",
       "3    very annoying that they didn't announce the ne...              2       3\n",
       "4     @clarkvolo iphone x was released in november tho              2       2\n",
       "..                                                 ...            ...     ...\n",
       "720  #mojosmartphone qi leather wireless charger ht...              0       0\n",
       "721  shop #anythingyoucanimagine @takealot https://...              0       4\n",
       "722  glowing apple logo backlit led case for iphone...              0       0\n",
       "723  shit crazy had this iphone x forever https://t...              2       3\n",
       "724  @typingmask27 @beemstarburner @callmeagent00 h...              2       4\n",
       "\n",
       "[725 rows x 3 columns]"
      ]
     },
     "execution_count": 32,
     "metadata": {},
     "output_type": "execute_result"
    }
   ],
   "source": [
    "test"
   ]
  },
  {
   "cell_type": "code",
   "execution_count": 35,
   "metadata": {},
   "outputs": [
    {
     "data": {
      "text/plain": [
       "'shop #anythingyoucanimagine @takealot https://t.co/2xlxbref9m https://t.co/eqkhoorbic'"
      ]
     },
     "execution_count": 35,
     "metadata": {},
     "output_type": "execute_result"
    }
   ],
   "source": [
    "test.Teste[721]"
   ]
  },
  {
   "cell_type": "code",
   "execution_count": 36,
   "metadata": {},
   "outputs": [
    {
     "data": {
      "text/plain": [
       "'shop anythingyoucanimagine https//tco/2xlxbref9m'"
      ]
     },
     "execution_count": 36,
     "metadata": {},
     "output_type": "execute_result"
    }
   ],
   "source": [
    "cleanup(test.Teste[721])"
   ]
  },
  {
   "cell_type": "code",
   "execution_count": 37,
   "metadata": {},
   "outputs": [
    {
     "data": {
      "text/plain": [
       "0"
      ]
     },
     "execution_count": 37,
     "metadata": {},
     "output_type": "execute_result"
    }
   ],
   "source": [
    "naive_bayes(cleanup(test.Teste[721]))"
   ]
  },
  {
   "cell_type": "markdown",
   "metadata": {},
   "source": [
    "___\n",
    "## Concluindo:"
   ]
  },
  {
   "cell_type": "markdown",
   "metadata": {},
   "source": [
    "___\n",
    "## Aperfeiçoamento:\n",
    "\n",
    "Os trabalhos vão evoluir em conceito dependendo da quantidade de itens avançados:\n",
    "\n",
    "* Limpar: \\n, :, \", ', (, ), etc SEM remover emojis\n",
    "* Corrigir separação de espaços entre palavras e emojis ou entre emojis e emojis\n",
    "* Propor outras limpezas e transformações que não afetem a qualidade da informação ou classificação\n",
    "* Criar categorias intermediárias de relevância baseadas na probabilidade: ex.: muito relevante, relevante, neutro, irrelevante, muito irrelevante (3 categorias: C, mais categorias conta para B)\n",
    "* Explicar por que não posso usar o próprio classificador para gerar mais amostras de treinamento\n",
    "* Propor diferentes cenários para Naïve Bayes fora do contexto do projeto\n",
    "* Sugerir e explicar melhorias reais com indicações concretas de como implementar (indicar como fazer e indicar material de pesquisa)\n",
    "* Montar um dashboard que realiza análise de sentimento e visualiza estes dados"
   ]
  },
  {
   "cell_type": "markdown",
   "metadata": {},
   "source": [
    "___\n",
    "## Referências"
   ]
  },
  {
   "cell_type": "markdown",
   "metadata": {},
   "source": [
    "[Naive Bayes and Text Classification](https://arxiv.org/pdf/1410.5329.pdf)  **Mais completo**\n",
    "\n",
    "[A practical explanation of a Naive Bayes Classifier](https://monkeylearn.com/blog/practical-explanation-naive-bayes-classifier/) **Mais simples**"
   ]
  },
  {
   "cell_type": "code",
   "execution_count": null,
   "metadata": {},
   "outputs": [],
   "source": []
  }
 ],
 "metadata": {
  "kernelspec": {
   "display_name": "Python 3",
   "language": "python",
   "name": "python3"
  },
  "language_info": {
   "codemirror_mode": {
    "name": "ipython",
    "version": 3
   },
   "file_extension": ".py",
   "mimetype": "text/x-python",
   "name": "python",
   "nbconvert_exporter": "python",
   "pygments_lexer": "ipython3",
   "version": "3.8.3"
  }
 },
 "nbformat": 4,
 "nbformat_minor": 4
}
