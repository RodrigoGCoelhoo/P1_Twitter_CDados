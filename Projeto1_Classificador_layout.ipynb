{
 "cells": [
  {
   "cell_type": "markdown",
   "metadata": {},
   "source": [
    "# Projeto 1 - Ciência dos Dados"
   ]
  },
  {
   "cell_type": "markdown",
   "metadata": {},
   "source": [
    "Nome: Paulo Kim\n",
    "\n",
    "Nome: Rodrigo Coelho"
   ]
  },
  {
   "cell_type": "markdown",
   "metadata": {},
   "source": [
    "**Atenção:** Serão permitidos grupos de três pessoas, mas com uma rubrica mais exigente. Grupos deste tamanho precisarão fazer um questionário de avaliação de trabalho em equipe"
   ]
  },
  {
   "cell_type": "markdown",
   "metadata": {},
   "source": [
    "___\n",
    "Carregando algumas bibliotecas:"
   ]
  },
  {
   "cell_type": "code",
   "execution_count": 26,
   "metadata": {},
   "outputs": [],
   "source": [
    "%matplotlib inline\n",
    "import pandas as pd\n",
    "import matplotlib.pyplot as plt\n",
    "import numpy as np\n",
    "import os\n",
    "import re\n",
    "import math"
   ]
  },
  {
   "cell_type": "markdown",
   "metadata": {},
   "source": [
    "**Em `filename`, coloque o nome do seu arquivo de dados!**"
   ]
  },
  {
   "cell_type": "code",
   "execution_count": 27,
   "metadata": {},
   "outputs": [
    {
     "name": "stdout",
     "output_type": "stream",
     "text": [
      "Encontrei o arquivo iPhone_X.xlsx, tudo certo para prosseguir com a prova!\n"
     ]
    }
   ],
   "source": [
    "import os\n",
    "\n",
    "filename = 'iPhone_X.xlsx'\n",
    "if filename in os.listdir():\n",
    "    print(f'Encontrei o arquivo {filename}, tudo certo para prosseguir com a prova!')\n",
    "else:\n",
    "    print(f'Não encontrei o arquivo {filename} aqui no diretório {os.getcwd()}, será que você não baixou o arquivo?')"
   ]
  },
  {
   "cell_type": "markdown",
   "metadata": {},
   "source": [
    "Carregando a base de dados de treinamento com os tweets classificados:"
   ]
  },
  {
   "cell_type": "code",
   "execution_count": 47,
   "metadata": {},
   "outputs": [
    {
     "data": {
      "text/html": [
       "<div>\n",
       "<style scoped>\n",
       "    .dataframe tbody tr th:only-of-type {\n",
       "        vertical-align: middle;\n",
       "    }\n",
       "\n",
       "    .dataframe tbody tr th {\n",
       "        vertical-align: top;\n",
       "    }\n",
       "\n",
       "    .dataframe thead th {\n",
       "        text-align: right;\n",
       "    }\n",
       "</style>\n",
       "<table border=\"1\" class=\"dataframe\">\n",
       "  <thead>\n",
       "    <tr style=\"text-align: right;\">\n",
       "      <th></th>\n",
       "      <th>Treinamento</th>\n",
       "      <th>Classificação</th>\n",
       "    </tr>\n",
       "  </thead>\n",
       "  <tbody>\n",
       "    <tr>\n",
       "      <td>0</td>\n",
       "      <td>@iconredesign my prediction is the same but:\\n...</td>\n",
       "      <td>2</td>\n",
       "    </tr>\n",
       "    <tr>\n",
       "      <td>1</td>\n",
       "      <td>still have mine but i never connected to my ph...</td>\n",
       "      <td>1</td>\n",
       "    </tr>\n",
       "    <tr>\n",
       "      <td>2</td>\n",
       "      <td>iphone 11 na waste of money, just chill with x...</td>\n",
       "      <td>2</td>\n",
       "    </tr>\n",
       "    <tr>\n",
       "      <td>3</td>\n",
       "      <td>once the iphone 12 drops those using the iphon...</td>\n",
       "      <td>2</td>\n",
       "    </tr>\n",
       "    <tr>\n",
       "      <td>4</td>\n",
       "      <td>#ncat who fix’s phone ?? it’s a iphone x</td>\n",
       "      <td>1</td>\n",
       "    </tr>\n",
       "  </tbody>\n",
       "</table>\n",
       "</div>"
      ],
      "text/plain": [
       "                                         Treinamento  Classificação\n",
       "0  @iconredesign my prediction is the same but:\\n...              2\n",
       "1  still have mine but i never connected to my ph...              1\n",
       "2  iphone 11 na waste of money, just chill with x...              2\n",
       "3  once the iphone 12 drops those using the iphon...              2\n",
       "4           #ncat who fix’s phone ?? it’s a iphone x              1"
      ]
     },
     "execution_count": 47,
     "metadata": {},
     "output_type": "execute_result"
    }
   ],
   "source": [
    "train = pd.read_excel(filename)\n",
    "train = train.iloc[:,:2]\n",
    "train.head(5)"
   ]
  },
  {
   "cell_type": "markdown",
   "metadata": {},
   "source": [
    "Carregando a base de dados de teste com os tweets classificados:"
   ]
  },
  {
   "cell_type": "code",
   "execution_count": 48,
   "metadata": {},
   "outputs": [
    {
     "data": {
      "text/html": [
       "<div>\n",
       "<style scoped>\n",
       "    .dataframe tbody tr th:only-of-type {\n",
       "        vertical-align: middle;\n",
       "    }\n",
       "\n",
       "    .dataframe tbody tr th {\n",
       "        vertical-align: top;\n",
       "    }\n",
       "\n",
       "    .dataframe thead th {\n",
       "        text-align: right;\n",
       "    }\n",
       "</style>\n",
       "<table border=\"1\" class=\"dataframe\">\n",
       "  <thead>\n",
       "    <tr style=\"text-align: right;\">\n",
       "      <th></th>\n",
       "      <th>Teste</th>\n",
       "      <th>Classificação</th>\n",
       "    </tr>\n",
       "  </thead>\n",
       "  <tbody>\n",
       "    <tr>\n",
       "      <td>0</td>\n",
       "      <td>@starrynight024 right?? that’s exactly what ha...</td>\n",
       "      <td>3</td>\n",
       "    </tr>\n",
       "    <tr>\n",
       "      <td>1</td>\n",
       "      <td>@gossipgirliee some of us haven't bought iphone x</td>\n",
       "      <td>2</td>\n",
       "    </tr>\n",
       "    <tr>\n",
       "      <td>2</td>\n",
       "      <td>@manyaww @mlgcollegefess hs without cond*m and...</td>\n",
       "      <td>1</td>\n",
       "    </tr>\n",
       "    <tr>\n",
       "      <td>3</td>\n",
       "      <td>very annoying that they didn't announce the ne...</td>\n",
       "      <td>2</td>\n",
       "    </tr>\n",
       "    <tr>\n",
       "      <td>4</td>\n",
       "      <td>@clarkvolo iphone x was released in november tho</td>\n",
       "      <td>2</td>\n",
       "    </tr>\n",
       "  </tbody>\n",
       "</table>\n",
       "</div>"
      ],
      "text/plain": [
       "                                               Teste  Classificação\n",
       "0  @starrynight024 right?? that’s exactly what ha...              3\n",
       "1  @gossipgirliee some of us haven't bought iphone x              2\n",
       "2  @manyaww @mlgcollegefess hs without cond*m and...              1\n",
       "3  very annoying that they didn't announce the ne...              2\n",
       "4   @clarkvolo iphone x was released in november tho              2"
      ]
     },
     "execution_count": 48,
     "metadata": {},
     "output_type": "execute_result"
    }
   ],
   "source": [
    "test = pd.read_excel(filename, sheet_name = 'Teste')\n",
    "test = test.iloc[:,:2]\n",
    "test.head()"
   ]
  },
  {
   "cell_type": "markdown",
   "metadata": {},
   "source": [
    "___\n",
    "## Classificador automático de sentimento\n"
   ]
  },
  {
   "cell_type": "markdown",
   "metadata": {},
   "source": [
    "Nós pegamos como produto o iPhone X. Para sua classificação, dividimos os tweets em:\n",
    "\n",
    "* **Propaganda/oferta** (0) --> tweets com anúncios de valor e venda de iPhones, assim como vendas de peliculas e capas específicas para o iPhone X\n",
    "* **Muito irrelevante** (1) --> tweets que mencionavam o iPhone X, mas que nada relacionado ao aparelho em si, apenas citando ele\n",
    "* **Irrelevante** (2) --> tweets que além de mencionar o iPhone, faziam comentários relacionados ao aparelho, mas muito superficiais\n",
    "* **Relevante** (3) --> tweets que traziam alguma carga de crítica ao aparelho (seja boa ou ruim)\n",
    "* **Muito relevante** (4) --> tweets com altas cargas criticas construtivas, que especificam algum parte ou recurso do aparelho"
   ]
  },
  {
   "cell_type": "code",
   "execution_count": 49,
   "metadata": {},
   "outputs": [],
   "source": [
    "# Função cleanup que realiza a filtragem de caracteres desnecessários, \n",
    "# assim como menção à contas e referências a sites\n",
    "\n",
    "def cleanup(text):\n",
    "    punctuation = '[!-.:?;]'\n",
    "    pattern = re.compile(punctuation)\n",
    "    text_subbed = re.sub(pattern, '', text)\n",
    "    \n",
    "    text_subbed_list = text_subbed.split()\n",
    "    \n",
    "    for word in text_subbed_list:\n",
    "        if word[0] == '@' or word[:5] == 'https':\n",
    "            text_subbed_list.remove(word)\n",
    "        else:\n",
    "            pass\n",
    "    return ' '.join(text_subbed_list)  "
   ]
  },
  {
   "cell_type": "code",
   "execution_count": 55,
   "metadata": {},
   "outputs": [
    {
     "data": {
      "text/html": [
       "<div>\n",
       "<style scoped>\n",
       "    .dataframe tbody tr th:only-of-type {\n",
       "        vertical-align: middle;\n",
       "    }\n",
       "\n",
       "    .dataframe tbody tr th {\n",
       "        vertical-align: top;\n",
       "    }\n",
       "\n",
       "    .dataframe thead th {\n",
       "        text-align: right;\n",
       "    }\n",
       "</style>\n",
       "<table border=\"1\" class=\"dataframe\">\n",
       "  <thead>\n",
       "    <tr style=\"text-align: right;\">\n",
       "      <th></th>\n",
       "      <th>Treinamento</th>\n",
       "      <th>Classificação</th>\n",
       "    </tr>\n",
       "  </thead>\n",
       "  <tbody>\n",
       "    <tr>\n",
       "      <td>0</td>\n",
       "      <td>my prediction is the same but a13 bionic face ...</td>\n",
       "      <td>2</td>\n",
       "    </tr>\n",
       "    <tr>\n",
       "      <td>1</td>\n",
       "      <td>still have mine but i never connected to my ph...</td>\n",
       "      <td>1</td>\n",
       "    </tr>\n",
       "    <tr>\n",
       "      <td>2</td>\n",
       "      <td>iphone 11 na waste of money just chill with x ...</td>\n",
       "      <td>2</td>\n",
       "    </tr>\n",
       "    <tr>\n",
       "      <td>3</td>\n",
       "      <td>once the iphone 12 drops those using the iphon...</td>\n",
       "      <td>2</td>\n",
       "    </tr>\n",
       "    <tr>\n",
       "      <td>4</td>\n",
       "      <td>ncat who fix’s phone it’s a iphone x</td>\n",
       "      <td>1</td>\n",
       "    </tr>\n",
       "  </tbody>\n",
       "</table>\n",
       "</div>"
      ],
      "text/plain": [
       "                                         Treinamento  Classificação\n",
       "0  my prediction is the same but a13 bionic face ...              2\n",
       "1  still have mine but i never connected to my ph...              1\n",
       "2  iphone 11 na waste of money just chill with x ...              2\n",
       "3  once the iphone 12 drops those using the iphon...              2\n",
       "4               ncat who fix’s phone it’s a iphone x              1"
      ]
     },
     "execution_count": 55,
     "metadata": {},
     "output_type": "execute_result"
    }
   ],
   "source": [
    "# Loop para realizar a limpeza do treinamento\n",
    "for i in range(len(train)):\n",
    "    train.at[i,'Treinamento'] = cleanup(train.Treinamento[i]).lower() \n",
    "                                                                      \n",
    "train.head()"
   ]
  },
  {
   "cell_type": "code",
   "execution_count": 56,
   "metadata": {},
   "outputs": [
    {
     "data": {
      "text/html": [
       "<div>\n",
       "<style scoped>\n",
       "    .dataframe tbody tr th:only-of-type {\n",
       "        vertical-align: middle;\n",
       "    }\n",
       "\n",
       "    .dataframe tbody tr th {\n",
       "        vertical-align: top;\n",
       "    }\n",
       "\n",
       "    .dataframe thead th {\n",
       "        text-align: right;\n",
       "    }\n",
       "</style>\n",
       "<table border=\"1\" class=\"dataframe\">\n",
       "  <thead>\n",
       "    <tr style=\"text-align: right;\">\n",
       "      <th></th>\n",
       "      <th>Teste</th>\n",
       "      <th>Classificação</th>\n",
       "    </tr>\n",
       "  </thead>\n",
       "  <tbody>\n",
       "    <tr>\n",
       "      <td>0</td>\n",
       "      <td>right that’s exactly what happened when i got ...</td>\n",
       "      <td>3</td>\n",
       "    </tr>\n",
       "    <tr>\n",
       "      <td>1</td>\n",
       "      <td>some of us havent bought iphone x</td>\n",
       "      <td>2</td>\n",
       "    </tr>\n",
       "    <tr>\n",
       "      <td>2</td>\n",
       "      <td>hs without condm and what did you expected to ...</td>\n",
       "      <td>1</td>\n",
       "    </tr>\n",
       "    <tr>\n",
       "      <td>3</td>\n",
       "      <td>very annoying that they didnt announce the new...</td>\n",
       "      <td>2</td>\n",
       "    </tr>\n",
       "    <tr>\n",
       "      <td>4</td>\n",
       "      <td>iphone x was released in november tho</td>\n",
       "      <td>2</td>\n",
       "    </tr>\n",
       "  </tbody>\n",
       "</table>\n",
       "</div>"
      ],
      "text/plain": [
       "                                               Teste  Classificação\n",
       "0  right that’s exactly what happened when i got ...              3\n",
       "1                  some of us havent bought iphone x              2\n",
       "2  hs without condm and what did you expected to ...              1\n",
       "3  very annoying that they didnt announce the new...              2\n",
       "4              iphone x was released in november tho              2"
      ]
     },
     "execution_count": 56,
     "metadata": {},
     "output_type": "execute_result"
    }
   ],
   "source": [
    "# Loop para realizar a limpeza do teste\n",
    "for i in range(len(test)):\n",
    "    test.at[i,'Teste'] = cleanup(test.Teste[i]).lower() \n",
    "                                                                      \n",
    "test.head()"
   ]
  },
  {
   "cell_type": "code",
   "execution_count": 136,
   "metadata": {},
   "outputs": [],
   "source": [
    "# Calculando o total de palavras no conjunto dos tweets da base de treinamento\n",
    "total_palavras = 0 \n",
    "for phrase in train.Treinamento:\n",
    "    total_palavras += len(phrase.split())"
   ]
  },
  {
   "cell_type": "markdown",
   "metadata": {},
   "source": [
    "___\n",
    "### Montagens das séries e tabelas relativas para cada classificação\n",
    "\n",
    "Filtragem do dataframe para cada classficação, para assim montar as tabelas com as probabilidades de cada palavra dada uma classificação\n"
   ]
  },
  {
   "cell_type": "code",
   "execution_count": 137,
   "metadata": {},
   "outputs": [],
   "source": [
    "# Transformando a lista de palavras da classficação Propaganda/Oferta (0) em uma série\n",
    "lista_palavras_class_0 = []\n",
    "palavras_class_0 = train.loc[train.Classificação == 0,:]\n",
    "\n",
    "for phrase in palavras_class_0.Treinamento:\n",
    "    lista_palavras_class_0 += phrase.split()\n",
    "    \n",
    "series_palavras_class_0 = pd.Series(lista_palavras_class_0)"
   ]
  },
  {
   "cell_type": "code",
   "execution_count": 138,
   "metadata": {},
   "outputs": [],
   "source": [
    "# Transformando a lista de palavras da classficação Muito Irrelevante (1) em uma série\n",
    "lista_palavras_class_1 = []\n",
    "palavras_class_1 = train.loc[train.Classificação == 1,:]\n",
    "\n",
    "for phrase in palavras_class_1.Treinamento:\n",
    "    lista_palavras_class_1 += phrase.split()\n",
    "    \n",
    "series_palavras_class_1 = pd.Series(lista_palavras_class_1)"
   ]
  },
  {
   "cell_type": "code",
   "execution_count": 139,
   "metadata": {},
   "outputs": [],
   "source": [
    "# Transformando a lista de palavras da classficação Irrelevante (2) em uma série\n",
    "lista_palavras_class_2 = []\n",
    "palavras_class_2 = train.loc[train.Classificação == 2,:]\n",
    "\n",
    "for phrase in palavras_class_2.Treinamento:\n",
    "    lista_palavras_class_2 += phrase.split()\n",
    "    \n",
    "series_palavras_class_2 = pd.Series(lista_palavras_class_2)"
   ]
  },
  {
   "cell_type": "code",
   "execution_count": 140,
   "metadata": {},
   "outputs": [],
   "source": [
    "# Transformando a lista de palavras da classficação Relevante (3) em uma série\n",
    "lista_palavras_class_3 = []\n",
    "palavras_class_3 = train.loc[train.Classificação == 3,:]\n",
    "\n",
    "for phrase in palavras_class_3.Treinamento:\n",
    "    lista_palavras_class_3 += phrase.split()\n",
    "    \n",
    "series_palavras_class_3 = pd.Series(lista_palavras_class_3)"
   ]
  },
  {
   "cell_type": "code",
   "execution_count": 141,
   "metadata": {},
   "outputs": [],
   "source": [
    "# Transformando a lista de palavras da classficação Muito Relevante (4) em uma série\n",
    "lista_palavras_class_4 = []\n",
    "palavras_class_4 = train.loc[train.Classificação == 4,:]\n",
    "\n",
    "for phrase in palavras_class_4.Treinamento:\n",
    "    lista_palavras_class_4 += phrase.split()\n",
    "    \n",
    "series_palavras_class_4 = pd.Series(lista_palavras_class_4)"
   ]
  },
  {
   "cell_type": "code",
   "execution_count": 142,
   "metadata": {},
   "outputs": [],
   "source": [
    "# Calculando a quantidade de cada palavra dada a classificação\n",
    "qntd_absoluta_palavra_class_0 = series_palavras_class_0.value_counts()\n",
    "qntd_absoluta_palavra_class_1 = series_palavras_class_1.value_counts()\n",
    "qntd_absoluta_palavra_class_2 = series_palavras_class_2.value_counts()\n",
    "qntd_absoluta_palavra_class_3 = series_palavras_class_3.value_counts()\n",
    "qntd_absoluta_palavra_class_4 = series_palavras_class_4.value_counts()"
   ]
  },
  {
   "cell_type": "markdown",
   "metadata": {},
   "source": [
    "___\n",
    "### Montando um Classificador Naive-Bayes\n",
    "\n",
    "Considerando apenas as mensagens da planilha Treinamento, ensine  seu classificador."
   ]
  },
  {
   "cell_type": "code",
   "execution_count": 143,
   "metadata": {},
   "outputs": [],
   "source": [
    "# Calculando a probabilidade de uma palavra pertencer à respectiva classificação\n",
    "P_0 = len(train.loc[train['Classificação']== 0,:]) / len(train)\n",
    "P_1 = len(train.loc[train['Classificação']== 1,:]) / len(train)\n",
    "P_2 = len(train.loc[train['Classificação']== 2,:]) / len(train)\n",
    "P_3 = len(train.loc[train['Classificação']== 3,:]) / len(train)\n",
    "P_4 = len(train.loc[train['Classificação']== 4,:]) / len(train)"
   ]
  },
  {
   "cell_type": "code",
   "execution_count": 146,
   "metadata": {},
   "outputs": [],
   "source": [
    "# Smoothing\n",
    "smoothing = {\n",
    "    'V': 10**4,\n",
    "    'alpha': 0.1\n",
    "}\n",
    "\n",
    "# Funções resposáveis em calcular as probabilidades com a aplicação do smoothing\n",
    "\n",
    "def prob_frase_dado_class_0(frase):\n",
    "    prob = 1\n",
    "    for palavra in frase.split():\n",
    "        try: # Verifica se a palavra está contida na série da respectiva categoria. \n",
    "            prob *= (qntd_absoluta_palavra_class_0[palavra] + smoothing['alpha']) / (qntd_absoluta_palavra_class_0.sum() + smoothing['alpha']*smoothing['V']) \n",
    "        except: # Caso a palavra não exista, a técnica de smoothing impede que a probabilidade resulte em zero\n",
    "            prob *= smoothing['alpha'] / (qntd_absoluta_palavra_class_0.sum() + smoothing['alpha']*smoothing['V'])\n",
    "        \n",
    "    return prob\n",
    "\n",
    "def prob_frase_dado_class_1(frase):\n",
    "    prob = 1\n",
    "    for palavra in frase.split():\n",
    "        try:\n",
    "            prob *= (qntd_absoluta_palavra_class_1[palavra] + smoothing['alpha']) / (qntd_absoluta_palavra_class_1.sum() + smoothing['alpha']*smoothing['V'])\n",
    "        except:\n",
    "            prob *= smoothing['alpha'] / (qntd_absoluta_palavra_class_1.sum() + smoothing['alpha']*smoothing['V'])\n",
    "                                                                                 \n",
    "    return prob\n",
    "\n",
    "def prob_frase_dado_class_2(frase):\n",
    "    prob = 1\n",
    "    for palavra in frase.split():\n",
    "        try:\n",
    "            prob *= (qntd_absoluta_palavra_class_2[palavra] + smoothing['alpha']) / (qntd_absoluta_palavra_class_2.sum() + smoothing['alpha']*smoothing['V'])\n",
    "        except:\n",
    "            prob *= smoothing['alpha'] / (len(qntd_absoluta_palavra_class_2) + smoothing['alpha']*smoothing['V'])\n",
    "                                                                                \n",
    "    return prob\n",
    "\n",
    "def prob_frase_dado_class_3(frase):\n",
    "    prob = 1\n",
    "    for palavra in frase.split():\n",
    "        try:\n",
    "            prob *= (qntd_absoluta_palavra_class_3[palavra] + smoothing['alpha']) / (qntd_absoluta_palavra_class_3.sum() + smoothing['alpha']*smoothing['V'])  \n",
    "        except:\n",
    "            prob *= smoothing['alpha'] / (qntd_absoluta_palavra_class_3.sum() + smoothing['alpha']*smoothing['V'])\n",
    "                                                                                \n",
    "    return prob\n",
    "\n",
    "def prob_frase_dado_class_4(frase):\n",
    "    prob = 1\n",
    "    for palavra in frase.split():\n",
    "        try:\n",
    "            prob *= (qntd_absoluta_palavra_class_4[palavra] + smoothing['alpha']) / (qntd_absoluta_palavra_class_4.sum() + smoothing['alpha']*smoothing['V'])\n",
    "        except:\n",
    "            prob *= smoothing['alpha'] / (qntd_absoluta_palavra_class_4.sum() + smoothing['alpha']*smoothing['V'])\n",
    "                                                                               \n",
    "    return prob"
   ]
  },
  {
   "cell_type": "code",
   "execution_count": 147,
   "metadata": {},
   "outputs": [],
   "source": [
    "def naive_bayes(tweet):\n",
    "    p_0_dado_frase = math.log(prob_frase_dado_class_0(tweet) * P_0)\n",
    "    p_1_dado_frase = math.log(prob_frase_dado_class_1(tweet) * P_1)\n",
    "    p_2_dado_frase = math.log(prob_frase_dado_class_2(tweet) * P_2)\n",
    "    p_3_dado_frase = math.log(prob_frase_dado_class_3(tweet) * P_3)\n",
    "    p_4_dado_frase = math.log(prob_frase_dado_class_4(tweet) * P_4)\n",
    "    \n",
    "    # As probabilidade são guardadas em uma lista, para assim, retornar o maior valor dela\n",
    "    lista_de_probabilidades = [p_0_dado_frase,\n",
    "                               p_1_dado_frase,\n",
    "                               p_2_dado_frase,\n",
    "                               p_3_dado_frase,\n",
    "                               p_4_dado_frase]\n",
    "    \n",
    "    #Já que a lista está ordenada de acordo com as categorias, o index da maior probabilidade será a própria classificação\n",
    "    return lista_de_probabilidades.index(max(lista_de_probabilidades))"
   ]
  },
  {
   "cell_type": "markdown",
   "metadata": {},
   "source": [
    "___\n",
    "### Verificando a performance do Classificador\n",
    "\n",
    "Agora você deve testar o seu classificador com a base de Testes."
   ]
  },
  {
   "cell_type": "code",
   "execution_count": 149,
   "metadata": {},
   "outputs": [
    {
     "data": {
      "text/html": [
       "<div>\n",
       "<style scoped>\n",
       "    .dataframe tbody tr th:only-of-type {\n",
       "        vertical-align: middle;\n",
       "    }\n",
       "\n",
       "    .dataframe tbody tr th {\n",
       "        vertical-align: top;\n",
       "    }\n",
       "\n",
       "    .dataframe thead th {\n",
       "        text-align: right;\n",
       "    }\n",
       "</style>\n",
       "<table border=\"1\" class=\"dataframe\">\n",
       "  <thead>\n",
       "    <tr style=\"text-align: right;\">\n",
       "      <th></th>\n",
       "      <th>Teste</th>\n",
       "      <th>Classificação</th>\n",
       "      <th>NBayes</th>\n",
       "    </tr>\n",
       "  </thead>\n",
       "  <tbody>\n",
       "    <tr>\n",
       "      <td>0</td>\n",
       "      <td>right that’s exactly what happened when i got ...</td>\n",
       "      <td>3</td>\n",
       "      <td>2</td>\n",
       "    </tr>\n",
       "    <tr>\n",
       "      <td>1</td>\n",
       "      <td>some of us havent bought iphone x</td>\n",
       "      <td>2</td>\n",
       "      <td>1</td>\n",
       "    </tr>\n",
       "    <tr>\n",
       "      <td>2</td>\n",
       "      <td>hs without condm and what did you expected to ...</td>\n",
       "      <td>1</td>\n",
       "      <td>2</td>\n",
       "    </tr>\n",
       "    <tr>\n",
       "      <td>3</td>\n",
       "      <td>very annoying that they didnt announce the new...</td>\n",
       "      <td>2</td>\n",
       "      <td>3</td>\n",
       "    </tr>\n",
       "    <tr>\n",
       "      <td>4</td>\n",
       "      <td>iphone x was released in november tho</td>\n",
       "      <td>2</td>\n",
       "      <td>1</td>\n",
       "    </tr>\n",
       "    <tr>\n",
       "      <td>...</td>\n",
       "      <td>...</td>\n",
       "      <td>...</td>\n",
       "      <td>...</td>\n",
       "    </tr>\n",
       "    <tr>\n",
       "      <td>720</td>\n",
       "      <td>mojosmartphone qi leather wireless charger</td>\n",
       "      <td>0</td>\n",
       "      <td>0</td>\n",
       "    </tr>\n",
       "    <tr>\n",
       "      <td>721</td>\n",
       "      <td>shop anythingyoucanimagine</td>\n",
       "      <td>0</td>\n",
       "      <td>0</td>\n",
       "    </tr>\n",
       "    <tr>\n",
       "      <td>722</td>\n",
       "      <td>glowing apple logo backlit led case for iphone...</td>\n",
       "      <td>0</td>\n",
       "      <td>0</td>\n",
       "    </tr>\n",
       "    <tr>\n",
       "      <td>723</td>\n",
       "      <td>shit crazy had this iphone x forever</td>\n",
       "      <td>2</td>\n",
       "      <td>3</td>\n",
       "    </tr>\n",
       "    <tr>\n",
       "      <td>724</td>\n",
       "      <td>here is a even better version no iphone x line...</td>\n",
       "      <td>2</td>\n",
       "      <td>2</td>\n",
       "    </tr>\n",
       "  </tbody>\n",
       "</table>\n",
       "<p>725 rows × 3 columns</p>\n",
       "</div>"
      ],
      "text/plain": [
       "                                                 Teste  Classificação  NBayes\n",
       "0    right that’s exactly what happened when i got ...              3       2\n",
       "1                    some of us havent bought iphone x              2       1\n",
       "2    hs without condm and what did you expected to ...              1       2\n",
       "3    very annoying that they didnt announce the new...              2       3\n",
       "4                iphone x was released in november tho              2       1\n",
       "..                                                 ...            ...     ...\n",
       "720         mojosmartphone qi leather wireless charger              0       0\n",
       "721                         shop anythingyoucanimagine              0       0\n",
       "722  glowing apple logo backlit led case for iphone...              0       0\n",
       "723               shit crazy had this iphone x forever              2       3\n",
       "724  here is a even better version no iphone x line...              2       2\n",
       "\n",
       "[725 rows x 3 columns]"
      ]
     },
     "execution_count": 149,
     "metadata": {},
     "output_type": "execute_result"
    }
   ],
   "source": [
    "# Aplicando a função Naive Bayes ao DataFrame de Teste\n",
    "\n",
    "test.loc[:,'NBayes'] = 0\n",
    "for i in range(len(test)):\n",
    "    test.iloc[i,2] = naive_bayes(test.Teste[i])\n",
    "test"
   ]
  },
  {
   "cell_type": "code",
   "execution_count": 152,
   "metadata": {},
   "outputs": [
    {
     "data": {
      "text/html": [
       "<div>\n",
       "<style scoped>\n",
       "    .dataframe tbody tr th:only-of-type {\n",
       "        vertical-align: middle;\n",
       "    }\n",
       "\n",
       "    .dataframe tbody tr th {\n",
       "        vertical-align: top;\n",
       "    }\n",
       "\n",
       "    .dataframe thead th {\n",
       "        text-align: right;\n",
       "    }\n",
       "</style>\n",
       "<table border=\"1\" class=\"dataframe\">\n",
       "  <thead>\n",
       "    <tr style=\"text-align: right;\">\n",
       "      <th>NBayes</th>\n",
       "      <th>0</th>\n",
       "      <th>1</th>\n",
       "      <th>2</th>\n",
       "      <th>3</th>\n",
       "      <th>4</th>\n",
       "    </tr>\n",
       "    <tr>\n",
       "      <th>Classificação</th>\n",
       "      <th></th>\n",
       "      <th></th>\n",
       "      <th></th>\n",
       "      <th></th>\n",
       "      <th></th>\n",
       "    </tr>\n",
       "  </thead>\n",
       "  <tbody>\n",
       "    <tr>\n",
       "      <td>0</td>\n",
       "      <td>0.180690</td>\n",
       "      <td>0.012414</td>\n",
       "      <td>0.023448</td>\n",
       "      <td>0.002759</td>\n",
       "      <td>0.000000</td>\n",
       "    </tr>\n",
       "    <tr>\n",
       "      <td>1</td>\n",
       "      <td>0.008276</td>\n",
       "      <td>0.023448</td>\n",
       "      <td>0.064828</td>\n",
       "      <td>0.001379</td>\n",
       "      <td>0.000000</td>\n",
       "    </tr>\n",
       "    <tr>\n",
       "      <td>2</td>\n",
       "      <td>0.026207</td>\n",
       "      <td>0.155862</td>\n",
       "      <td>0.228966</td>\n",
       "      <td>0.053793</td>\n",
       "      <td>0.009655</td>\n",
       "    </tr>\n",
       "    <tr>\n",
       "      <td>3</td>\n",
       "      <td>0.000000</td>\n",
       "      <td>0.026207</td>\n",
       "      <td>0.089655</td>\n",
       "      <td>0.041379</td>\n",
       "      <td>0.002759</td>\n",
       "    </tr>\n",
       "    <tr>\n",
       "      <td>4</td>\n",
       "      <td>0.000000</td>\n",
       "      <td>0.002759</td>\n",
       "      <td>0.026207</td>\n",
       "      <td>0.013793</td>\n",
       "      <td>0.005517</td>\n",
       "    </tr>\n",
       "  </tbody>\n",
       "</table>\n",
       "</div>"
      ],
      "text/plain": [
       "NBayes                0         1         2         3         4\n",
       "Classificação                                                  \n",
       "0              0.180690  0.012414  0.023448  0.002759  0.000000\n",
       "1              0.008276  0.023448  0.064828  0.001379  0.000000\n",
       "2              0.026207  0.155862  0.228966  0.053793  0.009655\n",
       "3              0.000000  0.026207  0.089655  0.041379  0.002759\n",
       "4              0.000000  0.002759  0.026207  0.013793  0.005517"
      ]
     },
     "execution_count": 152,
     "metadata": {},
     "output_type": "execute_result"
    }
   ],
   "source": [
    "# Tabela que compara classificação humana e a classificação do algoritmo no Teste\n",
    "\n",
    "tabela_acuracia_teste = pd.crosstab(test.Classificação, test.NBayes, normalize = True)\n",
    "tabela_acuracia_teste"
   ]
  },
  {
   "cell_type": "code",
   "execution_count": 153,
   "metadata": {},
   "outputs": [
    {
     "name": "stdout",
     "output_type": "stream",
     "text": [
      "A taxa de acurácia do classificador no teste é de 47.449999999999996%\n"
     ]
    }
   ],
   "source": [
    "taxa_acuracia_teste = tabela_acuracia_teste.iloc[0,0] + tabela_acuracia_teste.iloc[1,1] + tabela_acuracia_teste.iloc[2,2] + tabela_acuracia_teste.iloc[3,3] \n",
    "\n",
    "print('A taxa de acurácia do classificador no teste é de {}%'.format(taxa_acuracia_teste.round(4)*100))"
   ]
  },
  {
   "cell_type": "code",
   "execution_count": 154,
   "metadata": {},
   "outputs": [],
   "source": [
    "# Aqui aplicamos a função Naive Bayes ao nosso DataFrame de Treinamento\n",
    "\n",
    "train.loc[:,'NBayes'] = 0\n",
    "for i in range(len(train)):\n",
    "    train.iloc[i,2] = naive_bayes(train.Treinamento[i])"
   ]
  },
  {
   "cell_type": "code",
   "execution_count": 155,
   "metadata": {},
   "outputs": [
    {
     "data": {
      "text/html": [
       "<div>\n",
       "<style scoped>\n",
       "    .dataframe tbody tr th:only-of-type {\n",
       "        vertical-align: middle;\n",
       "    }\n",
       "\n",
       "    .dataframe tbody tr th {\n",
       "        vertical-align: top;\n",
       "    }\n",
       "\n",
       "    .dataframe thead th {\n",
       "        text-align: right;\n",
       "    }\n",
       "</style>\n",
       "<table border=\"1\" class=\"dataframe\">\n",
       "  <thead>\n",
       "    <tr style=\"text-align: right;\">\n",
       "      <th>NBayes</th>\n",
       "      <th>0</th>\n",
       "      <th>1</th>\n",
       "      <th>2</th>\n",
       "      <th>3</th>\n",
       "      <th>4</th>\n",
       "    </tr>\n",
       "    <tr>\n",
       "      <th>Classificação</th>\n",
       "      <th></th>\n",
       "      <th></th>\n",
       "      <th></th>\n",
       "      <th></th>\n",
       "      <th></th>\n",
       "    </tr>\n",
       "  </thead>\n",
       "  <tbody>\n",
       "    <tr>\n",
       "      <td>0</td>\n",
       "      <td>0.2144</td>\n",
       "      <td>0.0040</td>\n",
       "      <td>0.0032</td>\n",
       "      <td>0.0008</td>\n",
       "      <td>0.0000</td>\n",
       "    </tr>\n",
       "    <tr>\n",
       "      <td>1</td>\n",
       "      <td>0.0056</td>\n",
       "      <td>0.3384</td>\n",
       "      <td>0.0088</td>\n",
       "      <td>0.0032</td>\n",
       "      <td>0.0008</td>\n",
       "    </tr>\n",
       "    <tr>\n",
       "      <td>2</td>\n",
       "      <td>0.0016</td>\n",
       "      <td>0.0240</td>\n",
       "      <td>0.1704</td>\n",
       "      <td>0.0008</td>\n",
       "      <td>0.0000</td>\n",
       "    </tr>\n",
       "    <tr>\n",
       "      <td>3</td>\n",
       "      <td>0.0008</td>\n",
       "      <td>0.0032</td>\n",
       "      <td>0.0072</td>\n",
       "      <td>0.1480</td>\n",
       "      <td>0.0000</td>\n",
       "    </tr>\n",
       "    <tr>\n",
       "      <td>4</td>\n",
       "      <td>0.0000</td>\n",
       "      <td>0.0016</td>\n",
       "      <td>0.0008</td>\n",
       "      <td>0.0040</td>\n",
       "      <td>0.0584</td>\n",
       "    </tr>\n",
       "  </tbody>\n",
       "</table>\n",
       "</div>"
      ],
      "text/plain": [
       "NBayes              0       1       2       3       4\n",
       "Classificação                                        \n",
       "0              0.2144  0.0040  0.0032  0.0008  0.0000\n",
       "1              0.0056  0.3384  0.0088  0.0032  0.0008\n",
       "2              0.0016  0.0240  0.1704  0.0008  0.0000\n",
       "3              0.0008  0.0032  0.0072  0.1480  0.0000\n",
       "4              0.0000  0.0016  0.0008  0.0040  0.0584"
      ]
     },
     "execution_count": 155,
     "metadata": {},
     "output_type": "execute_result"
    }
   ],
   "source": [
    "# Tabela que compara classificação humana e a classificação do algoritmo no Treinamento\n",
    "\n",
    "tabela_acuracia_treino = pd.crosstab(train.Classificação, train.NBayes, normalize = True)\n",
    "tabela_acuracia_treino"
   ]
  },
  {
   "cell_type": "code",
   "execution_count": 156,
   "metadata": {},
   "outputs": [
    {
     "name": "stdout",
     "output_type": "stream",
     "text": [
      "A taxa de acurácia do classificador no teste é de 87.12%\n"
     ]
    }
   ],
   "source": [
    "taxa_acuracia_treino = tabela_acuracia_treino.iloc[0,0] + tabela_acuracia_treino.iloc[1,1] + tabela_acuracia_treino.iloc[2,2] + tabela_acuracia_treino.iloc[3,3] \n",
    "print('A taxa de acurácia do classificador no teste é de {}%'.format(taxa_acuracia_treino.round(4)*100))"
   ]
  },
  {
   "cell_type": "markdown",
   "metadata": {},
   "source": [
    "___\n",
    "## Concluindo:"
   ]
  },
  {
   "cell_type": "markdown",
   "metadata": {},
   "source": [
    "Nosso avaliador obteve uma taxa de acerto de 47,5% quando aplicado a uma base de dados Teste (simulando tweets aleatórios pegos no Twitter) e uma taxa de acerto de 87,12% quando aplicado de volta em cima da própria base de dados (Treinamento) que ajudou a treina-lo. Portanto, aproximandando os valores, pegando um tweet aleatório que falasse do iPhoneX, teríamos quase 50% de chance de acertar utilizando nosso classificador."
   ]
  },
  {
   "cell_type": "markdown",
   "metadata": {},
   "source": [
    "Algumas ressalvas são para o fato de termos usados muitas categorias e para o fato da própria classificação subjetiva feita por cada um do grupo. As vezes por erros de interpretação tweets podem ter sidos classificados errados, e isso impacta diretamente no algoritmo.\n",
    "\n",
    "Outro ponto importante é a relação de números absolutos dos tweets da nossa base de treinamento:\n",
    "\n",
    "* Deal (0): 278 tweets\n",
    "* Muito irrelevante (1): 446 tweets\n",
    "* Irrelevante (2): 249 tweets\n",
    "* Relevante (3): 199 tweets\n",
    "* Muito relevante (4): 81 tweets\n",
    "\n",
    "* Total: 1250 tweets avaliados\n",
    "\n",
    "Com isso, percebemos uma problemática no nosso algoritmo, pois a base de treinamento possui muito mais dados para classificar um tweet nas categorias 0, 1 e 2, mas pouquissimos recursos para classificar o tweet nas categorias 3 e 4. Desse modo, por termos uma base de dados fraca no caso das classificações 3 e 4, sempre que chegava uma palavra que não estava nessa base de dados ela passava por smoothing, enquanto nas classificações 0, 1 e 2 haviam muito mais recursos  para definir a probabilidade da palavra em análise."
   ]
  },
  {
   "cell_type": "markdown",
   "metadata": {},
   "source": [
    "De acordo com a base de dados, percebemos uma limitação do algoritmo dada a pouca quantidade de dados fornecida para ele treinar. Como possíveis melhorias do noss modelo, buscaríamos, além de nivelar a quantidade de tweets de cada classificação, aumentar a base de dados, pois assim o algortimo estaria mais preparado para palavras novas, e nós não dependeríamos tanto assim dos processor de smoothing."
   ]
  },
  {
   "cell_type": "markdown",
   "metadata": {},
   "source": [
    "O algoritmo de Naive Bayes se mostra como um poderoso classificador, independente do cenário. Ele pode ser usado para classificar sentimento, filtrar spam, sistemas de recomendação. Esse é um algoritmo que depende fortemente da construção correta de sua base de dados. Assim como dito anteriormente, se bem construida pode fornecer um grande potencial para o uso desse algoritmo."
   ]
  },
  {
   "cell_type": "markdown",
   "metadata": {},
   "source": [
    "Por fim, como um resumo de tudo falado. poderíamos melhorar o uso do nosso algoritmo incrementando nossa base de dados de modo a nivelar as quantidades de tweets e aumentar, também, a quantidade de tweets pegos. Além disso, podeíamos fazer algumas melhorias na estrutura do código que, em alguns momentos, ficou repetitivo e potencialmente lento. Poderíamos trabalhar com loops e dicionários para resolver a questão do código e trabalhar com mais dados para resolver a problemática da base de dados."
   ]
  },
  {
   "cell_type": "markdown",
   "metadata": {},
   "source": [
    "___\n",
    "## Referências"
   ]
  },
  {
   "cell_type": "markdown",
   "metadata": {},
   "source": [
    "[Naive Bayes and Text Classification](https://arxiv.org/pdf/1410.5329.pdf)  **Mais completo**\n",
    "\n",
    "[A practical explanation of a Naive Bayes Classifier](https://monkeylearn.com/blog/practical-explanation-naive-bayes-classifier/) **Mais simples**"
   ]
  }
 ],
 "metadata": {
  "kernelspec": {
   "display_name": "Python 3",
   "language": "python",
   "name": "python3"
  },
  "language_info": {
   "codemirror_mode": {
    "name": "ipython",
    "version": 3
   },
   "file_extension": ".py",
   "mimetype": "text/x-python",
   "name": "python",
   "nbconvert_exporter": "python",
   "pygments_lexer": "ipython3",
   "version": "3.7.4"
  }
 },
 "nbformat": 4,
 "nbformat_minor": 4
}
